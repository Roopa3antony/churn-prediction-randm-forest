{
 "cells": [
  {
   "cell_type": "code",
   "execution_count": 1,
   "metadata": {
    "executionInfo": {
     "elapsed": 3084,
     "status": "ok",
     "timestamp": 1619330689231,
     "user": {
      "displayName": "sharan nixon",
      "photoUrl": "https://lh3.googleusercontent.com/a-/AOh14GiQANRG7wr96VjSyGXhpwieTJElWuCudRK5zPtL2w=s64",
      "userId": "00216778369807035243"
     },
     "user_tz": -330
    },
    "id": "QRYaFu1AfPoh"
   },
   "outputs": [],
   "source": [
    "import pandas as pd"
   ]
  },
  {
   "cell_type": "code",
   "execution_count": 2,
   "metadata": {
    "executionInfo": {
     "elapsed": 2092,
     "status": "ok",
     "timestamp": 1619330689232,
     "user": {
      "displayName": "sharan nixon",
      "photoUrl": "https://lh3.googleusercontent.com/a-/AOh14GiQANRG7wr96VjSyGXhpwieTJElWuCudRK5zPtL2w=s64",
      "userId": "00216778369807035243"
     },
     "user_tz": -330
    },
    "id": "qHC9bl6pfBrz"
   },
   "outputs": [],
   "source": [
    "train = pd.read_csv(\"train.csv\")"
   ]
  },
  {
   "cell_type": "code",
   "execution_count": 3,
   "metadata": {
    "executionInfo": {
     "elapsed": 1910,
     "status": "ok",
     "timestamp": 1619330690355,
     "user": {
      "displayName": "sharan nixon",
      "photoUrl": "https://lh3.googleusercontent.com/a-/AOh14GiQANRG7wr96VjSyGXhpwieTJElWuCudRK5zPtL2w=s64",
      "userId": "00216778369807035243"
     },
     "user_tz": -330
    },
    "id": "_U-lNqyYfSFJ"
   },
   "outputs": [],
   "source": [
    "test = pd.read_csv('test.csv')"
   ]
  },
  {
   "cell_type": "code",
   "execution_count": 4,
   "metadata": {
    "colab": {
     "base_uri": "https://localhost:8080/",
     "height": 224
    },
    "executionInfo": {
     "elapsed": 875,
     "status": "ok",
     "timestamp": 1619078214078,
     "user": {
      "displayName": "sharan nixon",
      "photoUrl": "https://lh3.googleusercontent.com/a-/AOh14GiQANRG7wr96VjSyGXhpwieTJElWuCudRK5zPtL2w=s64",
      "userId": "00216778369807035243"
     },
     "user_tz": -330
    },
    "id": "ICC95_UYg5Q5",
    "outputId": "d24e74dd-8bee-4691-9d5f-f45047602b6b",
    "scrolled": true
   },
   "outputs": [
    {
     "data": {
      "text/html": [
       "<div>\n",
       "<style scoped>\n",
       "    .dataframe tbody tr th:only-of-type {\n",
       "        vertical-align: middle;\n",
       "    }\n",
       "\n",
       "    .dataframe tbody tr th {\n",
       "        vertical-align: top;\n",
       "    }\n",
       "\n",
       "    .dataframe thead th {\n",
       "        text-align: right;\n",
       "    }\n",
       "</style>\n",
       "<table border=\"1\" class=\"dataframe\">\n",
       "  <thead>\n",
       "    <tr style=\"text-align: right;\">\n",
       "      <th></th>\n",
       "      <th>state</th>\n",
       "      <th>account_length</th>\n",
       "      <th>area_code</th>\n",
       "      <th>international_plan</th>\n",
       "      <th>voice_mail_plan</th>\n",
       "      <th>number_vmail_messages</th>\n",
       "      <th>total_day_minutes</th>\n",
       "      <th>total_day_calls</th>\n",
       "      <th>total_day_charge</th>\n",
       "      <th>total_eve_minutes</th>\n",
       "      <th>total_eve_calls</th>\n",
       "      <th>total_eve_charge</th>\n",
       "      <th>total_night_minutes</th>\n",
       "      <th>total_night_calls</th>\n",
       "      <th>total_night_charge</th>\n",
       "      <th>total_intl_minutes</th>\n",
       "      <th>total_intl_calls</th>\n",
       "      <th>total_intl_charge</th>\n",
       "      <th>number_customer_service_calls</th>\n",
       "      <th>churn</th>\n",
       "    </tr>\n",
       "  </thead>\n",
       "  <tbody>\n",
       "    <tr>\n",
       "      <th>0</th>\n",
       "      <td>OH</td>\n",
       "      <td>107</td>\n",
       "      <td>area_code_415</td>\n",
       "      <td>no</td>\n",
       "      <td>yes</td>\n",
       "      <td>26</td>\n",
       "      <td>161.6</td>\n",
       "      <td>123</td>\n",
       "      <td>27.47</td>\n",
       "      <td>195.5</td>\n",
       "      <td>103</td>\n",
       "      <td>16.62</td>\n",
       "      <td>254.4</td>\n",
       "      <td>103</td>\n",
       "      <td>11.45</td>\n",
       "      <td>13.7</td>\n",
       "      <td>3</td>\n",
       "      <td>3.70</td>\n",
       "      <td>1</td>\n",
       "      <td>no</td>\n",
       "    </tr>\n",
       "    <tr>\n",
       "      <th>1</th>\n",
       "      <td>NJ</td>\n",
       "      <td>137</td>\n",
       "      <td>area_code_415</td>\n",
       "      <td>no</td>\n",
       "      <td>no</td>\n",
       "      <td>0</td>\n",
       "      <td>243.4</td>\n",
       "      <td>114</td>\n",
       "      <td>41.38</td>\n",
       "      <td>121.2</td>\n",
       "      <td>110</td>\n",
       "      <td>10.30</td>\n",
       "      <td>162.6</td>\n",
       "      <td>104</td>\n",
       "      <td>7.32</td>\n",
       "      <td>12.2</td>\n",
       "      <td>5</td>\n",
       "      <td>3.29</td>\n",
       "      <td>0</td>\n",
       "      <td>no</td>\n",
       "    </tr>\n",
       "    <tr>\n",
       "      <th>2</th>\n",
       "      <td>OH</td>\n",
       "      <td>84</td>\n",
       "      <td>area_code_408</td>\n",
       "      <td>yes</td>\n",
       "      <td>no</td>\n",
       "      <td>0</td>\n",
       "      <td>299.4</td>\n",
       "      <td>71</td>\n",
       "      <td>50.90</td>\n",
       "      <td>61.9</td>\n",
       "      <td>88</td>\n",
       "      <td>5.26</td>\n",
       "      <td>196.9</td>\n",
       "      <td>89</td>\n",
       "      <td>8.86</td>\n",
       "      <td>6.6</td>\n",
       "      <td>7</td>\n",
       "      <td>1.78</td>\n",
       "      <td>2</td>\n",
       "      <td>no</td>\n",
       "    </tr>\n",
       "    <tr>\n",
       "      <th>3</th>\n",
       "      <td>OK</td>\n",
       "      <td>75</td>\n",
       "      <td>area_code_415</td>\n",
       "      <td>yes</td>\n",
       "      <td>no</td>\n",
       "      <td>0</td>\n",
       "      <td>166.7</td>\n",
       "      <td>113</td>\n",
       "      <td>28.34</td>\n",
       "      <td>148.3</td>\n",
       "      <td>122</td>\n",
       "      <td>12.61</td>\n",
       "      <td>186.9</td>\n",
       "      <td>121</td>\n",
       "      <td>8.41</td>\n",
       "      <td>10.1</td>\n",
       "      <td>3</td>\n",
       "      <td>2.73</td>\n",
       "      <td>3</td>\n",
       "      <td>no</td>\n",
       "    </tr>\n",
       "    <tr>\n",
       "      <th>4</th>\n",
       "      <td>MA</td>\n",
       "      <td>121</td>\n",
       "      <td>area_code_510</td>\n",
       "      <td>no</td>\n",
       "      <td>yes</td>\n",
       "      <td>24</td>\n",
       "      <td>218.2</td>\n",
       "      <td>88</td>\n",
       "      <td>37.09</td>\n",
       "      <td>348.5</td>\n",
       "      <td>108</td>\n",
       "      <td>29.62</td>\n",
       "      <td>212.6</td>\n",
       "      <td>118</td>\n",
       "      <td>9.57</td>\n",
       "      <td>7.5</td>\n",
       "      <td>7</td>\n",
       "      <td>2.03</td>\n",
       "      <td>3</td>\n",
       "      <td>no</td>\n",
       "    </tr>\n",
       "  </tbody>\n",
       "</table>\n",
       "</div>"
      ],
      "text/plain": [
       "  state  account_length      area_code international_plan voice_mail_plan  \\\n",
       "0    OH             107  area_code_415                 no             yes   \n",
       "1    NJ             137  area_code_415                 no              no   \n",
       "2    OH              84  area_code_408                yes              no   \n",
       "3    OK              75  area_code_415                yes              no   \n",
       "4    MA             121  area_code_510                 no             yes   \n",
       "\n",
       "   number_vmail_messages  total_day_minutes  total_day_calls  \\\n",
       "0                     26              161.6              123   \n",
       "1                      0              243.4              114   \n",
       "2                      0              299.4               71   \n",
       "3                      0              166.7              113   \n",
       "4                     24              218.2               88   \n",
       "\n",
       "   total_day_charge  total_eve_minutes  total_eve_calls  total_eve_charge  \\\n",
       "0             27.47              195.5              103             16.62   \n",
       "1             41.38              121.2              110             10.30   \n",
       "2             50.90               61.9               88              5.26   \n",
       "3             28.34              148.3              122             12.61   \n",
       "4             37.09              348.5              108             29.62   \n",
       "\n",
       "   total_night_minutes  total_night_calls  total_night_charge  \\\n",
       "0                254.4                103               11.45   \n",
       "1                162.6                104                7.32   \n",
       "2                196.9                 89                8.86   \n",
       "3                186.9                121                8.41   \n",
       "4                212.6                118                9.57   \n",
       "\n",
       "   total_intl_minutes  total_intl_calls  total_intl_charge  \\\n",
       "0                13.7                 3               3.70   \n",
       "1                12.2                 5               3.29   \n",
       "2                 6.6                 7               1.78   \n",
       "3                10.1                 3               2.73   \n",
       "4                 7.5                 7               2.03   \n",
       "\n",
       "   number_customer_service_calls churn  \n",
       "0                              1    no  \n",
       "1                              0    no  \n",
       "2                              2    no  \n",
       "3                              3    no  \n",
       "4                              3    no  "
      ]
     },
     "execution_count": 4,
     "metadata": {},
     "output_type": "execute_result"
    }
   ],
   "source": [
    "train.head()"
   ]
  },
  {
   "cell_type": "code",
   "execution_count": 5,
   "metadata": {
    "colab": {
     "base_uri": "https://localhost:8080/"
    },
    "executionInfo": {
     "elapsed": 1173,
     "status": "ok",
     "timestamp": 1619331285093,
     "user": {
      "displayName": "sharan nixon",
      "photoUrl": "https://lh3.googleusercontent.com/a-/AOh14GiQANRG7wr96VjSyGXhpwieTJElWuCudRK5zPtL2w=s64",
      "userId": "00216778369807035243"
     },
     "user_tz": -330
    },
    "id": "WMUGWMY-qjpe",
    "outputId": "d362c152-995a-4ddc-f902-bdcbe196f50d",
    "scrolled": true
   },
   "outputs": [
    {
     "data": {
      "text/plain": [
       "Index(['state', 'account_length', 'area_code', 'international_plan',\n",
       "       'voice_mail_plan', 'number_vmail_messages', 'total_day_minutes',\n",
       "       'total_day_calls', 'total_day_charge', 'total_eve_minutes',\n",
       "       'total_eve_calls', 'total_eve_charge', 'total_night_minutes',\n",
       "       'total_night_calls', 'total_night_charge', 'total_intl_minutes',\n",
       "       'total_intl_calls', 'total_intl_charge',\n",
       "       'number_customer_service_calls', 'churn'],\n",
       "      dtype='object')"
      ]
     },
     "execution_count": 5,
     "metadata": {},
     "output_type": "execute_result"
    }
   ],
   "source": [
    "train.columns"
   ]
  },
  {
   "cell_type": "code",
   "execution_count": 6,
   "metadata": {
    "colab": {
     "base_uri": "https://localhost:8080/"
    },
    "executionInfo": {
     "elapsed": 1507,
     "status": "ok",
     "timestamp": 1619330948529,
     "user": {
      "displayName": "sharan nixon",
      "photoUrl": "https://lh3.googleusercontent.com/a-/AOh14GiQANRG7wr96VjSyGXhpwieTJElWuCudRK5zPtL2w=s64",
      "userId": "00216778369807035243"
     },
     "user_tz": -330
    },
    "id": "OIeBEZ_PpOHq",
    "outputId": "682b6b46-c246-4a60-c3d8-63bc891f93e2"
   },
   "outputs": [
    {
     "data": {
      "text/plain": [
       "array(['area_code_415', 'area_code_408', 'area_code_510'], dtype=object)"
      ]
     },
     "execution_count": 6,
     "metadata": {},
     "output_type": "execute_result"
    }
   ],
   "source": [
    "train['area_code'].unique()"
   ]
  },
  {
   "cell_type": "code",
   "execution_count": 7,
   "metadata": {},
   "outputs": [
    {
     "name": "stdout",
     "output_type": "stream",
     "text": [
      "<class 'pandas.core.frame.DataFrame'>\n",
      "RangeIndex: 4250 entries, 0 to 4249\n",
      "Data columns (total 20 columns):\n",
      " #   Column                         Non-Null Count  Dtype  \n",
      "---  ------                         --------------  -----  \n",
      " 0   state                          4250 non-null   object \n",
      " 1   account_length                 4250 non-null   int64  \n",
      " 2   area_code                      4250 non-null   object \n",
      " 3   international_plan             4250 non-null   object \n",
      " 4   voice_mail_plan                4250 non-null   object \n",
      " 5   number_vmail_messages          4250 non-null   int64  \n",
      " 6   total_day_minutes              4250 non-null   float64\n",
      " 7   total_day_calls                4250 non-null   int64  \n",
      " 8   total_day_charge               4250 non-null   float64\n",
      " 9   total_eve_minutes              4250 non-null   float64\n",
      " 10  total_eve_calls                4250 non-null   int64  \n",
      " 11  total_eve_charge               4250 non-null   float64\n",
      " 12  total_night_minutes            4250 non-null   float64\n",
      " 13  total_night_calls              4250 non-null   int64  \n",
      " 14  total_night_charge             4250 non-null   float64\n",
      " 15  total_intl_minutes             4250 non-null   float64\n",
      " 16  total_intl_calls               4250 non-null   int64  \n",
      " 17  total_intl_charge              4250 non-null   float64\n",
      " 18  number_customer_service_calls  4250 non-null   int64  \n",
      " 19  churn                          4250 non-null   object \n",
      "dtypes: float64(8), int64(7), object(5)\n",
      "memory usage: 664.2+ KB\n"
     ]
    }
   ],
   "source": [
    "train.info()"
   ]
  },
  {
   "cell_type": "code",
   "execution_count": 8,
   "metadata": {
    "executionInfo": {
     "elapsed": 1424,
     "status": "ok",
     "timestamp": 1619331526055,
     "user": {
      "displayName": "sharan nixon",
      "photoUrl": "https://lh3.googleusercontent.com/a-/AOh14GiQANRG7wr96VjSyGXhpwieTJElWuCudRK5zPtL2w=s64",
      "userId": "00216778369807035243"
     },
     "user_tz": -330
    },
    "id": "QNXWmsddfZ2J"
   },
   "outputs": [],
   "source": [
    "train.area_code = train.area_code.map({'area_code_415':415,'area_code_408':408,'area_code_510':510})\n",
    "test.area_code = test.area_code.map({'area_code_415':415,'area_code_408':408,'area_code_510':510})"
   ]
  },
  {
   "cell_type": "code",
   "execution_count": 9,
   "metadata": {
    "executionInfo": {
     "elapsed": 1247,
     "status": "ok",
     "timestamp": 1619331526568,
     "user": {
      "displayName": "sharan nixon",
      "photoUrl": "https://lh3.googleusercontent.com/a-/AOh14GiQANRG7wr96VjSyGXhpwieTJElWuCudRK5zPtL2w=s64",
      "userId": "00216778369807035243"
     },
     "user_tz": -330
    },
    "id": "KDJ4ZWI3grsZ"
   },
   "outputs": [],
   "source": [
    "train = train.replace({'voice_mail_plan':{'yes':1,'no':0}})\n",
    "test = test.replace({'voice_mail_plan':{'yes':1,'no':0}})"
   ]
  },
  {
   "cell_type": "code",
   "execution_count": 10,
   "metadata": {
    "executionInfo": {
     "elapsed": 1793,
     "status": "ok",
     "timestamp": 1619331529242,
     "user": {
      "displayName": "sharan nixon",
      "photoUrl": "https://lh3.googleusercontent.com/a-/AOh14GiQANRG7wr96VjSyGXhpwieTJElWuCudRK5zPtL2w=s64",
      "userId": "00216778369807035243"
     },
     "user_tz": -330
    },
    "id": "DSBLs1AlgvCh"
   },
   "outputs": [],
   "source": [
    "train = train.replace({'international_plan':{'yes':1,'no':0}})\n",
    "test = test.replace({'international_plan':{'yes':1,'no':0}})"
   ]
  },
  {
   "cell_type": "code",
   "execution_count": 11,
   "metadata": {
    "executionInfo": {
     "elapsed": 1029,
     "status": "ok",
     "timestamp": 1619331529244,
     "user": {
      "displayName": "sharan nixon",
      "photoUrl": "https://lh3.googleusercontent.com/a-/AOh14GiQANRG7wr96VjSyGXhpwieTJElWuCudRK5zPtL2w=s64",
      "userId": "00216778369807035243"
     },
     "user_tz": -330
    },
    "id": "rJRXF_cxgwTS"
   },
   "outputs": [],
   "source": [
    "train = train.replace({'churn':{'yes':1,\"no\":0}})\n",
    "test = test.replace({'churn':{'yes':1,\"no\":0}})"
   ]
  },
  {
   "cell_type": "code",
   "execution_count": 12,
   "metadata": {
    "executionInfo": {
     "elapsed": 792,
     "status": "ok",
     "timestamp": 1619331530617,
     "user": {
      "displayName": "sharan nixon",
      "photoUrl": "https://lh3.googleusercontent.com/a-/AOh14GiQANRG7wr96VjSyGXhpwieTJElWuCudRK5zPtL2w=s64",
      "userId": "00216778369807035243"
     },
     "user_tz": -330
    },
    "id": "T628fvuJgz45"
   },
   "outputs": [],
   "source": [
    "train.state = train.state.astype('category')\n",
    "test.state = test.state.astype('category')"
   ]
  },
  {
   "cell_type": "code",
   "execution_count": 13,
   "metadata": {
    "colab": {
     "base_uri": "https://localhost:8080/"
    },
    "executionInfo": {
     "elapsed": 1252,
     "status": "ok",
     "timestamp": 1619331534767,
     "user": {
      "displayName": "sharan nixon",
      "photoUrl": "https://lh3.googleusercontent.com/a-/AOh14GiQANRG7wr96VjSyGXhpwieTJElWuCudRK5zPtL2w=s64",
      "userId": "00216778369807035243"
     },
     "user_tz": -330
    },
    "id": "23xMRhczg1JR",
    "outputId": "e5ae91c6-e62f-4de5-fd0d-0e6c176e7063"
   },
   "outputs": [
    {
     "name": "stdout",
     "output_type": "stream",
     "text": [
      "<class 'pandas.core.frame.DataFrame'>\n",
      "RangeIndex: 4250 entries, 0 to 4249\n",
      "Data columns (total 20 columns):\n",
      " #   Column                         Non-Null Count  Dtype   \n",
      "---  ------                         --------------  -----   \n",
      " 0   state                          4250 non-null   category\n",
      " 1   account_length                 4250 non-null   int64   \n",
      " 2   area_code                      4250 non-null   int64   \n",
      " 3   international_plan             4250 non-null   int64   \n",
      " 4   voice_mail_plan                4250 non-null   int64   \n",
      " 5   number_vmail_messages          4250 non-null   int64   \n",
      " 6   total_day_minutes              4250 non-null   float64 \n",
      " 7   total_day_calls                4250 non-null   int64   \n",
      " 8   total_day_charge               4250 non-null   float64 \n",
      " 9   total_eve_minutes              4250 non-null   float64 \n",
      " 10  total_eve_calls                4250 non-null   int64   \n",
      " 11  total_eve_charge               4250 non-null   float64 \n",
      " 12  total_night_minutes            4250 non-null   float64 \n",
      " 13  total_night_calls              4250 non-null   int64   \n",
      " 14  total_night_charge             4250 non-null   float64 \n",
      " 15  total_intl_minutes             4250 non-null   float64 \n",
      " 16  total_intl_calls               4250 non-null   int64   \n",
      " 17  total_intl_charge              4250 non-null   float64 \n",
      " 18  number_customer_service_calls  4250 non-null   int64   \n",
      " 19  churn                          4250 non-null   int64   \n",
      "dtypes: category(1), float64(8), int64(11)\n",
      "memory usage: 638.0 KB\n"
     ]
    }
   ],
   "source": [
    "train.info()"
   ]
  },
  {
   "cell_type": "code",
   "execution_count": 14,
   "metadata": {
    "executionInfo": {
     "elapsed": 1883,
     "status": "ok",
     "timestamp": 1619331570618,
     "user": {
      "displayName": "sharan nixon",
      "photoUrl": "https://lh3.googleusercontent.com/a-/AOh14GiQANRG7wr96VjSyGXhpwieTJElWuCudRK5zPtL2w=s64",
      "userId": "00216778369807035243"
     },
     "user_tz": -330
    },
    "id": "wBATGeLAlTIU"
   },
   "outputs": [],
   "source": [
    "import seaborn as sns"
   ]
  },
  {
   "cell_type": "code",
   "execution_count": 15,
   "metadata": {
    "colab": {
     "base_uri": "https://localhost:8080/",
     "height": 296
    },
    "executionInfo": {
     "elapsed": 1440,
     "status": "ok",
     "timestamp": 1619331595068,
     "user": {
      "displayName": "sharan nixon",
      "photoUrl": "https://lh3.googleusercontent.com/a-/AOh14GiQANRG7wr96VjSyGXhpwieTJElWuCudRK5zPtL2w=s64",
      "userId": "00216778369807035243"
     },
     "user_tz": -330
    },
    "id": "_ICCCVLCg32x",
    "outputId": "99fb0b76-9471-46c2-d647-25d7827c4972"
   },
   "outputs": [
    {
     "data": {
      "text/plain": [
       "<matplotlib.axes._subplots.AxesSubplot at 0x107bd22e0>"
      ]
     },
     "execution_count": 15,
     "metadata": {},
     "output_type": "execute_result"
    },
    {
     "data": {
      "image/png": "[encoded data removed]",
      "text/plain": [
       "<Figure size 432x288 with 1 Axes>"
      ]
     },
     "metadata": {
      "needs_background": "light"
     },
     "output_type": "display_data"
    }
   ],
   "source": [
    "sns.countplot(x = 'churn',data = train)"
   ]
  },
  {
   "cell_type": "code",
   "execution_count": 16,
   "metadata": {
    "colab": {
     "base_uri": "https://localhost:8080/",
     "height": 630
    },
    "executionInfo": {
     "elapsed": 1113,
     "status": "ok",
     "timestamp": 1619331644708,
     "user": {
      "displayName": "sharan nixon",
      "photoUrl": "https://lh3.googleusercontent.com/a-/AOh14GiQANRG7wr96VjSyGXhpwieTJElWuCudRK5zPtL2w=s64",
      "userId": "00216778369807035243"
     },
     "user_tz": -330
    },
    "id": "tsYgz0RFhQ9x",
    "outputId": "8782ae8a-b5ab-40a0-dcd9-03947ba11bfb"
   },
   "outputs": [
    {
     "data": {
      "text/html": [
       "<div>\n",
       "<style scoped>\n",
       "    .dataframe tbody tr th:only-of-type {\n",
       "        vertical-align: middle;\n",
       "    }\n",
       "\n",
       "    .dataframe tbody tr th {\n",
       "        vertical-align: top;\n",
       "    }\n",
       "\n",
       "    .dataframe thead th {\n",
       "        text-align: right;\n",
       "    }\n",
       "</style>\n",
       "<table border=\"1\" class=\"dataframe\">\n",
       "  <thead>\n",
       "    <tr style=\"text-align: right;\">\n",
       "      <th></th>\n",
       "      <th>account_length</th>\n",
       "      <th>area_code</th>\n",
       "      <th>international_plan</th>\n",
       "      <th>voice_mail_plan</th>\n",
       "      <th>number_vmail_messages</th>\n",
       "      <th>total_day_minutes</th>\n",
       "      <th>total_day_calls</th>\n",
       "      <th>total_day_charge</th>\n",
       "      <th>total_eve_minutes</th>\n",
       "      <th>total_eve_calls</th>\n",
       "      <th>total_eve_charge</th>\n",
       "      <th>total_night_minutes</th>\n",
       "      <th>total_night_calls</th>\n",
       "      <th>total_night_charge</th>\n",
       "      <th>total_intl_minutes</th>\n",
       "      <th>total_intl_calls</th>\n",
       "      <th>total_intl_charge</th>\n",
       "      <th>number_customer_service_calls</th>\n",
       "      <th>churn</th>\n",
       "    </tr>\n",
       "  </thead>\n",
       "  <tbody>\n",
       "    <tr>\n",
       "      <th>account_length</th>\n",
       "      <td>1.000000</td>\n",
       "      <td>-0.019969</td>\n",
       "      <td>0.027050</td>\n",
       "      <td>0.001663</td>\n",
       "      <td>-0.006626</td>\n",
       "      <td>-0.001612</td>\n",
       "      <td>0.023002</td>\n",
       "      <td>-0.001613</td>\n",
       "      <td>-0.010326</td>\n",
       "      <td>0.005535</td>\n",
       "      <td>-0.010322</td>\n",
       "      <td>-0.009916</td>\n",
       "      <td>-0.001846</td>\n",
       "      <td>-0.009942</td>\n",
       "      <td>0.004539</td>\n",
       "      <td>0.013690</td>\n",
       "      <td>0.004494</td>\n",
       "      <td>0.001002</td>\n",
       "      <td>0.019378</td>\n",
       "    </tr>\n",
       "    <tr>\n",
       "      <th>area_code</th>\n",
       "      <td>-0.019969</td>\n",
       "      <td>1.000000</td>\n",
       "      <td>0.027863</td>\n",
       "      <td>-0.008344</td>\n",
       "      <td>-0.007127</td>\n",
       "      <td>-0.008200</td>\n",
       "      <td>-0.034485</td>\n",
       "      <td>-0.008204</td>\n",
       "      <td>0.010856</td>\n",
       "      <td>-0.008468</td>\n",
       "      <td>0.010870</td>\n",
       "      <td>0.006754</td>\n",
       "      <td>0.018148</td>\n",
       "      <td>0.006743</td>\n",
       "      <td>-0.006417</td>\n",
       "      <td>-0.019411</td>\n",
       "      <td>-0.006514</td>\n",
       "      <td>0.022880</td>\n",
       "      <td>0.015964</td>\n",
       "    </tr>\n",
       "    <tr>\n",
       "      <th>international_plan</th>\n",
       "      <td>0.027050</td>\n",
       "      <td>0.027863</td>\n",
       "      <td>1.000000</td>\n",
       "      <td>0.000714</td>\n",
       "      <td>0.004808</td>\n",
       "      <td>0.040059</td>\n",
       "      <td>0.009776</td>\n",
       "      <td>0.040061</td>\n",
       "      <td>0.023484</td>\n",
       "      <td>-0.003004</td>\n",
       "      <td>0.023479</td>\n",
       "      <td>-0.020694</td>\n",
       "      <td>0.007153</td>\n",
       "      <td>-0.020694</td>\n",
       "      <td>0.023815</td>\n",
       "      <td>0.006956</td>\n",
       "      <td>0.023799</td>\n",
       "      <td>-0.008881</td>\n",
       "      <td>0.259053</td>\n",
       "    </tr>\n",
       "    <tr>\n",
       "      <th>voice_mail_plan</th>\n",
       "      <td>0.001663</td>\n",
       "      <td>-0.008344</td>\n",
       "      <td>0.000714</td>\n",
       "      <td>1.000000</td>\n",
       "      <td>0.954014</td>\n",
       "      <td>-0.000653</td>\n",
       "      <td>-0.010004</td>\n",
       "      <td>-0.000658</td>\n",
       "      <td>0.011982</td>\n",
       "      <td>0.000263</td>\n",
       "      <td>0.011989</td>\n",
       "      <td>0.017884</td>\n",
       "      <td>0.007872</td>\n",
       "      <td>0.017875</td>\n",
       "      <td>0.008098</td>\n",
       "      <td>-0.005674</td>\n",
       "      <td>0.008129</td>\n",
       "      <td>-0.021504</td>\n",
       "      <td>-0.114643</td>\n",
       "    </tr>\n",
       "    <tr>\n",
       "      <th>number_vmail_messages</th>\n",
       "      <td>-0.006626</td>\n",
       "      <td>-0.007127</td>\n",
       "      <td>0.004808</td>\n",
       "      <td>0.954014</td>\n",
       "      <td>1.000000</td>\n",
       "      <td>0.002000</td>\n",
       "      <td>-0.006920</td>\n",
       "      <td>0.001994</td>\n",
       "      <td>0.010725</td>\n",
       "      <td>0.003593</td>\n",
       "      <td>0.010736</td>\n",
       "      <td>0.018308</td>\n",
       "      <td>0.001977</td>\n",
       "      <td>0.018300</td>\n",
       "      <td>0.005220</td>\n",
       "      <td>0.006585</td>\n",
       "      <td>0.005249</td>\n",
       "      <td>-0.015303</td>\n",
       "      <td>-0.100347</td>\n",
       "    </tr>\n",
       "    <tr>\n",
       "      <th>total_day_minutes</th>\n",
       "      <td>-0.001612</td>\n",
       "      <td>-0.008200</td>\n",
       "      <td>0.040059</td>\n",
       "      <td>-0.000653</td>\n",
       "      <td>0.002000</td>\n",
       "      <td>1.000000</td>\n",
       "      <td>0.000747</td>\n",
       "      <td>1.000000</td>\n",
       "      <td>-0.013248</td>\n",
       "      <td>0.005986</td>\n",
       "      <td>-0.013258</td>\n",
       "      <td>0.010049</td>\n",
       "      <td>-0.004812</td>\n",
       "      <td>0.010036</td>\n",
       "      <td>-0.021369</td>\n",
       "      <td>0.003859</td>\n",
       "      <td>-0.021291</td>\n",
       "      <td>-0.002925</td>\n",
       "      <td>0.215272</td>\n",
       "    </tr>\n",
       "    <tr>\n",
       "      <th>total_day_calls</th>\n",
       "      <td>0.023002</td>\n",
       "      <td>-0.034485</td>\n",
       "      <td>0.009776</td>\n",
       "      <td>-0.010004</td>\n",
       "      <td>-0.006920</td>\n",
       "      <td>0.000747</td>\n",
       "      <td>1.000000</td>\n",
       "      <td>0.000751</td>\n",
       "      <td>0.008661</td>\n",
       "      <td>0.003739</td>\n",
       "      <td>0.008663</td>\n",
       "      <td>0.002206</td>\n",
       "      <td>-0.004815</td>\n",
       "      <td>0.002200</td>\n",
       "      <td>0.008834</td>\n",
       "      <td>0.009377</td>\n",
       "      <td>0.008909</td>\n",
       "      <td>-0.015845</td>\n",
       "      <td>0.011640</td>\n",
       "    </tr>\n",
       "    <tr>\n",
       "      <th>total_day_charge</th>\n",
       "      <td>-0.001613</td>\n",
       "      <td>-0.008204</td>\n",
       "      <td>0.040061</td>\n",
       "      <td>-0.000658</td>\n",
       "      <td>0.001994</td>\n",
       "      <td>1.000000</td>\n",
       "      <td>0.000751</td>\n",
       "      <td>1.000000</td>\n",
       "      <td>-0.013247</td>\n",
       "      <td>0.005985</td>\n",
       "      <td>-0.013257</td>\n",
       "      <td>0.010053</td>\n",
       "      <td>-0.004816</td>\n",
       "      <td>0.010040</td>\n",
       "      <td>-0.021374</td>\n",
       "      <td>0.003853</td>\n",
       "      <td>-0.021296</td>\n",
       "      <td>-0.002932</td>\n",
       "      <td>0.215263</td>\n",
       "    </tr>\n",
       "    <tr>\n",
       "      <th>total_eve_minutes</th>\n",
       "      <td>-0.010326</td>\n",
       "      <td>0.010856</td>\n",
       "      <td>0.023484</td>\n",
       "      <td>0.011982</td>\n",
       "      <td>0.010725</td>\n",
       "      <td>-0.013248</td>\n",
       "      <td>0.008661</td>\n",
       "      <td>-0.013247</td>\n",
       "      <td>1.000000</td>\n",
       "      <td>0.003101</td>\n",
       "      <td>1.000000</td>\n",
       "      <td>-0.014018</td>\n",
       "      <td>0.011973</td>\n",
       "      <td>-0.014031</td>\n",
       "      <td>-0.003509</td>\n",
       "      <td>0.012239</td>\n",
       "      <td>-0.003460</td>\n",
       "      <td>-0.010063</td>\n",
       "      <td>0.078855</td>\n",
       "    </tr>\n",
       "    <tr>\n",
       "      <th>total_eve_calls</th>\n",
       "      <td>0.005535</td>\n",
       "      <td>-0.008468</td>\n",
       "      <td>-0.003004</td>\n",
       "      <td>0.000263</td>\n",
       "      <td>0.003593</td>\n",
       "      <td>0.005986</td>\n",
       "      <td>0.003739</td>\n",
       "      <td>0.005985</td>\n",
       "      <td>0.003101</td>\n",
       "      <td>1.000000</td>\n",
       "      <td>0.003120</td>\n",
       "      <td>0.008425</td>\n",
       "      <td>-0.011929</td>\n",
       "      <td>0.008441</td>\n",
       "      <td>-0.013096</td>\n",
       "      <td>0.004949</td>\n",
       "      <td>-0.013145</td>\n",
       "      <td>0.006956</td>\n",
       "      <td>-0.006817</td>\n",
       "    </tr>\n",
       "    <tr>\n",
       "      <th>total_eve_charge</th>\n",
       "      <td>-0.010322</td>\n",
       "      <td>0.010870</td>\n",
       "      <td>0.023479</td>\n",
       "      <td>0.011989</td>\n",
       "      <td>0.010736</td>\n",
       "      <td>-0.013258</td>\n",
       "      <td>0.008663</td>\n",
       "      <td>-0.013257</td>\n",
       "      <td>1.000000</td>\n",
       "      <td>0.003120</td>\n",
       "      <td>1.000000</td>\n",
       "      <td>-0.014022</td>\n",
       "      <td>0.011971</td>\n",
       "      <td>-0.014035</td>\n",
       "      <td>-0.003512</td>\n",
       "      <td>0.012239</td>\n",
       "      <td>-0.003463</td>\n",
       "      <td>-0.010071</td>\n",
       "      <td>0.078852</td>\n",
       "    </tr>\n",
       "    <tr>\n",
       "      <th>total_night_minutes</th>\n",
       "      <td>-0.009916</td>\n",
       "      <td>0.006754</td>\n",
       "      <td>-0.020694</td>\n",
       "      <td>0.017884</td>\n",
       "      <td>0.018308</td>\n",
       "      <td>0.010049</td>\n",
       "      <td>0.002206</td>\n",
       "      <td>0.010053</td>\n",
       "      <td>-0.014018</td>\n",
       "      <td>0.008425</td>\n",
       "      <td>-0.014022</td>\n",
       "      <td>1.000000</td>\n",
       "      <td>0.023815</td>\n",
       "      <td>0.999999</td>\n",
       "      <td>-0.000113</td>\n",
       "      <td>-0.024280</td>\n",
       "      <td>-0.000047</td>\n",
       "      <td>-0.013771</td>\n",
       "      <td>0.046647</td>\n",
       "    </tr>\n",
       "    <tr>\n",
       "      <th>total_night_calls</th>\n",
       "      <td>-0.001846</td>\n",
       "      <td>0.018148</td>\n",
       "      <td>0.007153</td>\n",
       "      <td>0.007872</td>\n",
       "      <td>0.001977</td>\n",
       "      <td>-0.004812</td>\n",
       "      <td>-0.004815</td>\n",
       "      <td>-0.004816</td>\n",
       "      <td>0.011973</td>\n",
       "      <td>-0.011929</td>\n",
       "      <td>0.011971</td>\n",
       "      <td>0.023815</td>\n",
       "      <td>1.000000</td>\n",
       "      <td>0.023798</td>\n",
       "      <td>0.001093</td>\n",
       "      <td>0.003851</td>\n",
       "      <td>0.001054</td>\n",
       "      <td>-0.008893</td>\n",
       "      <td>-0.012699</td>\n",
       "    </tr>\n",
       "    <tr>\n",
       "      <th>total_night_charge</th>\n",
       "      <td>-0.009942</td>\n",
       "      <td>0.006743</td>\n",
       "      <td>-0.020694</td>\n",
       "      <td>0.017875</td>\n",
       "      <td>0.018300</td>\n",
       "      <td>0.010036</td>\n",
       "      <td>0.002200</td>\n",
       "      <td>0.010040</td>\n",
       "      <td>-0.014031</td>\n",
       "      <td>0.008441</td>\n",
       "      <td>-0.014035</td>\n",
       "      <td>0.999999</td>\n",
       "      <td>0.023798</td>\n",
       "      <td>1.000000</td>\n",
       "      <td>-0.000103</td>\n",
       "      <td>-0.024260</td>\n",
       "      <td>-0.000037</td>\n",
       "      <td>-0.013761</td>\n",
       "      <td>0.046641</td>\n",
       "    </tr>\n",
       "    <tr>\n",
       "      <th>total_intl_minutes</th>\n",
       "      <td>0.004539</td>\n",
       "      <td>-0.006417</td>\n",
       "      <td>0.023815</td>\n",
       "      <td>0.008098</td>\n",
       "      <td>0.005220</td>\n",
       "      <td>-0.021369</td>\n",
       "      <td>0.008834</td>\n",
       "      <td>-0.021374</td>\n",
       "      <td>-0.003509</td>\n",
       "      <td>-0.013096</td>\n",
       "      <td>-0.003512</td>\n",
       "      <td>-0.000113</td>\n",
       "      <td>0.001093</td>\n",
       "      <td>-0.000103</td>\n",
       "      <td>1.000000</td>\n",
       "      <td>0.019328</td>\n",
       "      <td>0.999993</td>\n",
       "      <td>-0.013994</td>\n",
       "      <td>0.055186</td>\n",
       "    </tr>\n",
       "    <tr>\n",
       "      <th>total_intl_calls</th>\n",
       "      <td>0.013690</td>\n",
       "      <td>-0.019411</td>\n",
       "      <td>0.006956</td>\n",
       "      <td>-0.005674</td>\n",
       "      <td>0.006585</td>\n",
       "      <td>0.003859</td>\n",
       "      <td>0.009377</td>\n",
       "      <td>0.003853</td>\n",
       "      <td>0.012239</td>\n",
       "      <td>0.004949</td>\n",
       "      <td>0.012239</td>\n",
       "      <td>-0.024280</td>\n",
       "      <td>0.003851</td>\n",
       "      <td>-0.024260</td>\n",
       "      <td>0.019328</td>\n",
       "      <td>1.000000</td>\n",
       "      <td>0.019414</td>\n",
       "      <td>-0.015302</td>\n",
       "      <td>-0.034334</td>\n",
       "    </tr>\n",
       "    <tr>\n",
       "      <th>total_intl_charge</th>\n",
       "      <td>0.004494</td>\n",
       "      <td>-0.006514</td>\n",
       "      <td>0.023799</td>\n",
       "      <td>0.008129</td>\n",
       "      <td>0.005249</td>\n",
       "      <td>-0.021291</td>\n",
       "      <td>0.008909</td>\n",
       "      <td>-0.021296</td>\n",
       "      <td>-0.003460</td>\n",
       "      <td>-0.013145</td>\n",
       "      <td>-0.003463</td>\n",
       "      <td>-0.000047</td>\n",
       "      <td>0.001054</td>\n",
       "      <td>-0.000037</td>\n",
       "      <td>0.999993</td>\n",
       "      <td>0.019414</td>\n",
       "      <td>1.000000</td>\n",
       "      <td>-0.014051</td>\n",
       "      <td>0.055177</td>\n",
       "    </tr>\n",
       "    <tr>\n",
       "      <th>number_customer_service_calls</th>\n",
       "      <td>0.001002</td>\n",
       "      <td>0.022880</td>\n",
       "      <td>-0.008881</td>\n",
       "      <td>-0.021504</td>\n",
       "      <td>-0.015303</td>\n",
       "      <td>-0.002925</td>\n",
       "      <td>-0.015845</td>\n",
       "      <td>-0.002932</td>\n",
       "      <td>-0.010063</td>\n",
       "      <td>0.006956</td>\n",
       "      <td>-0.010071</td>\n",
       "      <td>-0.013771</td>\n",
       "      <td>-0.008893</td>\n",
       "      <td>-0.013761</td>\n",
       "      <td>-0.013994</td>\n",
       "      <td>-0.015302</td>\n",
       "      <td>-0.014051</td>\n",
       "      <td>1.000000</td>\n",
       "      <td>0.221220</td>\n",
       "    </tr>\n",
       "    <tr>\n",
       "      <th>churn</th>\n",
       "      <td>0.019378</td>\n",
       "      <td>0.015964</td>\n",
       "      <td>0.259053</td>\n",
       "      <td>-0.114643</td>\n",
       "      <td>-0.100347</td>\n",
       "      <td>0.215272</td>\n",
       "      <td>0.011640</td>\n",
       "      <td>0.215263</td>\n",
       "      <td>0.078855</td>\n",
       "      <td>-0.006817</td>\n",
       "      <td>0.078852</td>\n",
       "      <td>0.046647</td>\n",
       "      <td>-0.012699</td>\n",
       "      <td>0.046641</td>\n",
       "      <td>0.055186</td>\n",
       "      <td>-0.034334</td>\n",
       "      <td>0.055177</td>\n",
       "      <td>0.221220</td>\n",
       "      <td>1.000000</td>\n",
       "    </tr>\n",
       "  </tbody>\n",
       "</table>\n",
       "</div>"
      ],
      "text/plain": [
       "                               account_length  area_code  international_plan  \\\n",
       "account_length                       1.000000  -0.019969            0.027050   \n",
       "area_code                           -0.019969   1.000000            0.027863   \n",
       "international_plan                   0.027050   0.027863            1.000000   \n",
       "voice_mail_plan                      0.001663  -0.008344            0.000714   \n",
       "number_vmail_messages               -0.006626  -0.007127            0.004808   \n",
       "total_day_minutes                   -0.001612  -0.008200            0.040059   \n",
       "total_day_calls                      0.023002  -0.034485            0.009776   \n",
       "total_day_charge                    -0.001613  -0.008204            0.040061   \n",
       "total_eve_minutes                   -0.010326   0.010856            0.023484   \n",
       "total_eve_calls                      0.005535  -0.008468           -0.003004   \n",
       "total_eve_charge                    -0.010322   0.010870            0.023479   \n",
       "total_night_minutes                 -0.009916   0.006754           -0.020694   \n",
       "total_night_calls                   -0.001846   0.018148            0.007153   \n",
       "total_night_charge                  -0.009942   0.006743           -0.020694   \n",
       "total_intl_minutes                   0.004539  -0.006417            0.023815   \n",
       "total_intl_calls                     0.013690  -0.019411            0.006956   \n",
       "total_intl_charge                    0.004494  -0.006514            0.023799   \n",
       "number_customer_service_calls        0.001002   0.022880           -0.008881   \n",
       "churn                                0.019378   0.015964            0.259053   \n",
       "\n",
       "                               voice_mail_plan  number_vmail_messages  \\\n",
       "account_length                        0.001663              -0.006626   \n",
       "area_code                            -0.008344              -0.007127   \n",
       "international_plan                    0.000714               0.004808   \n",
       "voice_mail_plan                       1.000000               0.954014   \n",
       "number_vmail_messages                 0.954014               1.000000   \n",
       "total_day_minutes                    -0.000653               0.002000   \n",
       "total_day_calls                      -0.010004              -0.006920   \n",
       "total_day_charge                     -0.000658               0.001994   \n",
       "total_eve_minutes                     0.011982               0.010725   \n",
       "total_eve_calls                       0.000263               0.003593   \n",
       "total_eve_charge                      0.011989               0.010736   \n",
       "total_night_minutes                   0.017884               0.018308   \n",
       "total_night_calls                     0.007872               0.001977   \n",
       "total_night_charge                    0.017875               0.018300   \n",
       "total_intl_minutes                    0.008098               0.005220   \n",
       "total_intl_calls                     -0.005674               0.006585   \n",
       "total_intl_charge                     0.008129               0.005249   \n",
       "number_customer_service_calls        -0.021504              -0.015303   \n",
       "churn                                -0.114643              -0.100347   \n",
       "\n",
       "                               total_day_minutes  total_day_calls  \\\n",
       "account_length                         -0.001612         0.023002   \n",
       "area_code                              -0.008200        -0.034485   \n",
       "international_plan                      0.040059         0.009776   \n",
       "voice_mail_plan                        -0.000653        -0.010004   \n",
       "number_vmail_messages                   0.002000        -0.006920   \n",
       "total_day_minutes                       1.000000         0.000747   \n",
       "total_day_calls                         0.000747         1.000000   \n",
       "total_day_charge                        1.000000         0.000751   \n",
       "total_eve_minutes                      -0.013248         0.008661   \n",
       "total_eve_calls                         0.005986         0.003739   \n",
       "total_eve_charge                       -0.013258         0.008663   \n",
       "total_night_minutes                     0.010049         0.002206   \n",
       "total_night_calls                      -0.004812        -0.004815   \n",
       "total_night_charge                      0.010036         0.002200   \n",
       "total_intl_minutes                     -0.021369         0.008834   \n",
       "total_intl_calls                        0.003859         0.009377   \n",
       "total_intl_charge                      -0.021291         0.008909   \n",
       "number_customer_service_calls          -0.002925        -0.015845   \n",
       "churn                                   0.215272         0.011640   \n",
       "\n",
       "                               total_day_charge  total_eve_minutes  \\\n",
       "account_length                        -0.001613          -0.010326   \n",
       "area_code                             -0.008204           0.010856   \n",
       "international_plan                     0.040061           0.023484   \n",
       "voice_mail_plan                       -0.000658           0.011982   \n",
       "number_vmail_messages                  0.001994           0.010725   \n",
       "total_day_minutes                      1.000000          -0.013248   \n",
       "total_day_calls                        0.000751           0.008661   \n",
       "total_day_charge                       1.000000          -0.013247   \n",
       "total_eve_minutes                     -0.013247           1.000000   \n",
       "total_eve_calls                        0.005985           0.003101   \n",
       "total_eve_charge                      -0.013257           1.000000   \n",
       "total_night_minutes                    0.010053          -0.014018   \n",
       "total_night_calls                     -0.004816           0.011973   \n",
       "total_night_charge                     0.010040          -0.014031   \n",
       "total_intl_minutes                    -0.021374          -0.003509   \n",
       "total_intl_calls                       0.003853           0.012239   \n",
       "total_intl_charge                     -0.021296          -0.003460   \n",
       "number_customer_service_calls         -0.002932          -0.010063   \n",
       "churn                                  0.215263           0.078855   \n",
       "\n",
       "                               total_eve_calls  total_eve_charge  \\\n",
       "account_length                        0.005535         -0.010322   \n",
       "area_code                            -0.008468          0.010870   \n",
       "international_plan                   -0.003004          0.023479   \n",
       "voice_mail_plan                       0.000263          0.011989   \n",
       "number_vmail_messages                 0.003593          0.010736   \n",
       "total_day_minutes                     0.005986         -0.013258   \n",
       "total_day_calls                       0.003739          0.008663   \n",
       "total_day_charge                      0.005985         -0.013257   \n",
       "total_eve_minutes                     0.003101          1.000000   \n",
       "total_eve_calls                       1.000000          0.003120   \n",
       "total_eve_charge                      0.003120          1.000000   \n",
       "total_night_minutes                   0.008425         -0.014022   \n",
       "total_night_calls                    -0.011929          0.011971   \n",
       "total_night_charge                    0.008441         -0.014035   \n",
       "total_intl_minutes                   -0.013096         -0.003512   \n",
       "total_intl_calls                      0.004949          0.012239   \n",
       "total_intl_charge                    -0.013145         -0.003463   \n",
       "number_customer_service_calls         0.006956         -0.010071   \n",
       "churn                                -0.006817          0.078852   \n",
       "\n",
       "                               total_night_minutes  total_night_calls  \\\n",
       "account_length                           -0.009916          -0.001846   \n",
       "area_code                                 0.006754           0.018148   \n",
       "international_plan                       -0.020694           0.007153   \n",
       "voice_mail_plan                           0.017884           0.007872   \n",
       "number_vmail_messages                     0.018308           0.001977   \n",
       "total_day_minutes                         0.010049          -0.004812   \n",
       "total_day_calls                           0.002206          -0.004815   \n",
       "total_day_charge                          0.010053          -0.004816   \n",
       "total_eve_minutes                        -0.014018           0.011973   \n",
       "total_eve_calls                           0.008425          -0.011929   \n",
       "total_eve_charge                         -0.014022           0.011971   \n",
       "total_night_minutes                       1.000000           0.023815   \n",
       "total_night_calls                         0.023815           1.000000   \n",
       "total_night_charge                        0.999999           0.023798   \n",
       "total_intl_minutes                       -0.000113           0.001093   \n",
       "total_intl_calls                         -0.024280           0.003851   \n",
       "total_intl_charge                        -0.000047           0.001054   \n",
       "number_customer_service_calls            -0.013771          -0.008893   \n",
       "churn                                     0.046647          -0.012699   \n",
       "\n",
       "                               total_night_charge  total_intl_minutes  \\\n",
       "account_length                          -0.009942            0.004539   \n",
       "area_code                                0.006743           -0.006417   \n",
       "international_plan                      -0.020694            0.023815   \n",
       "voice_mail_plan                          0.017875            0.008098   \n",
       "number_vmail_messages                    0.018300            0.005220   \n",
       "total_day_minutes                        0.010036           -0.021369   \n",
       "total_day_calls                          0.002200            0.008834   \n",
       "total_day_charge                         0.010040           -0.021374   \n",
       "total_eve_minutes                       -0.014031           -0.003509   \n",
       "total_eve_calls                          0.008441           -0.013096   \n",
       "total_eve_charge                        -0.014035           -0.003512   \n",
       "total_night_minutes                      0.999999           -0.000113   \n",
       "total_night_calls                        0.023798            0.001093   \n",
       "total_night_charge                       1.000000           -0.000103   \n",
       "total_intl_minutes                      -0.000103            1.000000   \n",
       "total_intl_calls                        -0.024260            0.019328   \n",
       "total_intl_charge                       -0.000037            0.999993   \n",
       "number_customer_service_calls           -0.013761           -0.013994   \n",
       "churn                                    0.046641            0.055186   \n",
       "\n",
       "                               total_intl_calls  total_intl_charge  \\\n",
       "account_length                         0.013690           0.004494   \n",
       "area_code                             -0.019411          -0.006514   \n",
       "international_plan                     0.006956           0.023799   \n",
       "voice_mail_plan                       -0.005674           0.008129   \n",
       "number_vmail_messages                  0.006585           0.005249   \n",
       "total_day_minutes                      0.003859          -0.021291   \n",
       "total_day_calls                        0.009377           0.008909   \n",
       "total_day_charge                       0.003853          -0.021296   \n",
       "total_eve_minutes                      0.012239          -0.003460   \n",
       "total_eve_calls                        0.004949          -0.013145   \n",
       "total_eve_charge                       0.012239          -0.003463   \n",
       "total_night_minutes                   -0.024280          -0.000047   \n",
       "total_night_calls                      0.003851           0.001054   \n",
       "total_night_charge                    -0.024260          -0.000037   \n",
       "total_intl_minutes                     0.019328           0.999993   \n",
       "total_intl_calls                       1.000000           0.019414   \n",
       "total_intl_charge                      0.019414           1.000000   \n",
       "number_customer_service_calls         -0.015302          -0.014051   \n",
       "churn                                 -0.034334           0.055177   \n",
       "\n",
       "                               number_customer_service_calls     churn  \n",
       "account_length                                      0.001002  0.019378  \n",
       "area_code                                           0.022880  0.015964  \n",
       "international_plan                                 -0.008881  0.259053  \n",
       "voice_mail_plan                                    -0.021504 -0.114643  \n",
       "number_vmail_messages                              -0.015303 -0.100347  \n",
       "total_day_minutes                                  -0.002925  0.215272  \n",
       "total_day_calls                                    -0.015845  0.011640  \n",
       "total_day_charge                                   -0.002932  0.215263  \n",
       "total_eve_minutes                                  -0.010063  0.078855  \n",
       "total_eve_calls                                     0.006956 -0.006817  \n",
       "total_eve_charge                                   -0.010071  0.078852  \n",
       "total_night_minutes                                -0.013771  0.046647  \n",
       "total_night_calls                                  -0.008893 -0.012699  \n",
       "total_night_charge                                 -0.013761  0.046641  \n",
       "total_intl_minutes                                 -0.013994  0.055186  \n",
       "total_intl_calls                                   -0.015302 -0.034334  \n",
       "total_intl_charge                                  -0.014051  0.055177  \n",
       "number_customer_service_calls                       1.000000  0.221220  \n",
       "churn                                               0.221220  1.000000  "
      ]
     },
     "execution_count": 16,
     "metadata": {},
     "output_type": "execute_result"
    }
   ],
   "source": [
    "corr_matrix = train.corr()\n",
    "corr_matrix"
   ]
  },
  {
   "cell_type": "code",
   "execution_count": 17,
   "metadata": {
    "executionInfo": {
     "elapsed": 1445,
     "status": "ok",
     "timestamp": 1619331696440,
     "user": {
      "displayName": "sharan nixon",
      "photoUrl": "https://lh3.googleusercontent.com/a-/AOh14GiQANRG7wr96VjSyGXhpwieTJElWuCudRK5zPtL2w=s64",
      "userId": "00216778369807035243"
     },
     "user_tz": -330
    },
    "id": "K_e4S4WTlaGc"
   },
   "outputs": [],
   "source": [
    "import matplotlib.pyplot as plt"
   ]
  },
  {
   "cell_type": "code",
   "execution_count": 18,
   "metadata": {
    "colab": {
     "base_uri": "https://localhost:8080/",
     "height": 762
    },
    "executionInfo": {
     "elapsed": 1734,
     "status": "ok",
     "timestamp": 1619331715612,
     "user": {
      "displayName": "sharan nixon",
      "photoUrl": "https://lh3.googleusercontent.com/a-/AOh14GiQANRG7wr96VjSyGXhpwieTJElWuCudRK5zPtL2w=s64",
      "userId": "00216778369807035243"
     },
     "user_tz": -330
    },
    "id": "MuMpKFA3htYh",
    "outputId": "05209794-c0f7-400a-889a-e389bae5836d"
   },
   "outputs": [
    {
     "data": {
      "text/plain": [
       "<matplotlib.axes._subplots.AxesSubplot at 0x10b331c70>"
      ]
     },
     "execution_count": 18,
     "metadata": {},
     "output_type": "execute_result"
    },
    {
     "data": {
      "image/png": "[encoded data removed]",
      "text/plain": [
       "<Figure size 720x720 with 2 Axes>"
      ]
     },
     "metadata": {
      "needs_background": "light"
     },
     "output_type": "display_data"
    }
   ],
   "source": [
    "plt.figure(figsize = (10,10))\n",
    "sns.heatmap(corr_matrix)"
   ]
  },
  {
   "cell_type": "code",
   "execution_count": 20,
   "metadata": {
    "executionInfo": {
     "elapsed": 1155,
     "status": "ok",
     "timestamp": 1619331811580,
     "user": {
      "displayName": "sharan nixon",
      "photoUrl": "https://lh3.googleusercontent.com/a-/AOh14GiQANRG7wr96VjSyGXhpwieTJElWuCudRK5zPtL2w=s64",
      "userId": "00216778369807035243"
     },
     "user_tz": -330
    },
    "id": "BXpp37sghxcZ"
   },
   "outputs": [],
   "source": [
    "col_drop = ['total_day_minutes','total_night_minutes','total_eve_minutes','total_intl_minutes']"
   ]
  },
  {
   "cell_type": "code",
   "execution_count": 21,
   "metadata": {
    "executionInfo": {
     "elapsed": 1118,
     "status": "ok",
     "timestamp": 1619331812056,
     "user": {
      "displayName": "sharan nixon",
      "photoUrl": "https://lh3.googleusercontent.com/a-/AOh14GiQANRG7wr96VjSyGXhpwieTJElWuCudRK5zPtL2w=s64",
      "userId": "00216778369807035243"
     },
     "user_tz": -330
    },
    "id": "l5J0k37Ghx46"
   },
   "outputs": [],
   "source": [
    "train = train.drop(columns = col_drop,axis = 1)\n",
    "test = test.drop(columns = col_drop,axis = 1)\n"
   ]
  },
  {
   "cell_type": "code",
   "execution_count": 22,
   "metadata": {
    "colab": {
     "base_uri": "https://localhost:8080/",
     "height": 762
    },
    "executionInfo": {
     "elapsed": 2063,
     "status": "ok",
     "timestamp": 1619331815657,
     "user": {
      "displayName": "sharan nixon",
      "photoUrl": "https://lh3.googleusercontent.com/a-/AOh14GiQANRG7wr96VjSyGXhpwieTJElWuCudRK5zPtL2w=s64",
      "userId": "00216778369807035243"
     },
     "user_tz": -330
    },
    "id": "06RuzjCLh0CZ",
    "outputId": "b394db68-5ef4-450f-f62e-3b180ba1875d"
   },
   "outputs": [
    {
     "data": {
      "text/plain": [
       "<matplotlib.axes._subplots.AxesSubplot at 0x1079ddfa0>"
      ]
     },
     "execution_count": 22,
     "metadata": {},
     "output_type": "execute_result"
    },
    {
     "data": {
      "image/png": "[encoded data removed]",
      "text/plain": [
       "<Figure size 720x720 with 2 Axes>"
      ]
     },
     "metadata": {
      "needs_background": "light"
     },
     "output_type": "display_data"
    }
   ],
   "source": [
    "corr_matrix = train.corr()\n",
    "corr_matrix\n",
    "plt.figure(figsize = (10,10))\n",
    "sns.heatmap(corr_matrix)"
   ]
  },
  {
   "cell_type": "code",
   "execution_count": 23,
   "metadata": {
    "executionInfo": {
     "elapsed": 1055,
     "status": "ok",
     "timestamp": 1619332045918,
     "user": {
      "displayName": "sharan nixon",
      "photoUrl": "https://lh3.googleusercontent.com/a-/AOh14GiQANRG7wr96VjSyGXhpwieTJElWuCudRK5zPtL2w=s64",
      "userId": "00216778369807035243"
     },
     "user_tz": -330
    },
    "id": "HqlbbJkLh23x"
   },
   "outputs": [],
   "source": [
    "X = train.drop(['state','churn'],axis = 1)\n",
    "y = train['churn']"
   ]
  },
  {
   "cell_type": "code",
   "execution_count": 24,
   "metadata": {
    "executionInfo": {
     "elapsed": 1462,
     "status": "ok",
     "timestamp": 1619332191261,
     "user": {
      "displayName": "sharan nixon",
      "photoUrl": "https://lh3.googleusercontent.com/a-/AOh14GiQANRG7wr96VjSyGXhpwieTJElWuCudRK5zPtL2w=s64",
      "userId": "00216778369807035243"
     },
     "user_tz": -330
    },
    "id": "Pwg7euuph7P5"
   },
   "outputs": [],
   "source": [
    "from sklearn.preprocessing import StandardScaler\n",
    "scaler = StandardScaler()\n",
    "X_std = scaler.fit_transform(X)\n"
   ]
  },
  {
   "cell_type": "code",
   "execution_count": 25,
   "metadata": {
    "executionInfo": {
     "elapsed": 1030,
     "status": "ok",
     "timestamp": 1619332252038,
     "user": {
      "displayName": "sharan nixon",
      "photoUrl": "https://lh3.googleusercontent.com/a-/AOh14GiQANRG7wr96VjSyGXhpwieTJElWuCudRK5zPtL2w=s64",
      "userId": "00216778369807035243"
     },
     "user_tz": -330
    },
    "id": "GE4qnKcQiWSp"
   },
   "outputs": [],
   "source": [
    "df = pd.DataFrame(X_std, index = train.index, columns = train.columns[1:15])"
   ]
  },
  {
   "cell_type": "code",
   "execution_count": 26,
   "metadata": {
    "executionInfo": {
     "elapsed": 1054,
     "status": "ok",
     "timestamp": 1619332275291,
     "user": {
      "displayName": "sharan nixon",
      "photoUrl": "https://lh3.googleusercontent.com/a-/AOh14GiQANRG7wr96VjSyGXhpwieTJElWuCudRK5zPtL2w=s64",
      "userId": "00216778369807035243"
     },
     "user_tz": -330
    },
    "id": "jhUT1JKDidOx"
   },
   "outputs": [],
   "source": [
    "df['state'] = train['state']\n",
    "df['churn'] = train['churn']"
   ]
  },
  {
   "cell_type": "code",
   "execution_count": 27,
   "metadata": {},
   "outputs": [
    {
     "data": {
      "text/plain": [
       "RangeIndex(start=0, stop=4250, step=1)"
      ]
     },
     "execution_count": 27,
     "metadata": {},
     "output_type": "execute_result"
    }
   ],
   "source": [
    "train.index"
   ]
  },
  {
   "cell_type": "code",
   "execution_count": 28,
   "metadata": {
    "executionInfo": {
     "elapsed": 1066,
     "status": "ok",
     "timestamp": 1619332296077,
     "user": {
      "displayName": "sharan nixon",
      "photoUrl": "https://lh3.googleusercontent.com/a-/AOh14GiQANRG7wr96VjSyGXhpwieTJElWuCudRK5zPtL2w=s64",
      "userId": "00216778369807035243"
     },
     "user_tz": -330
    },
    "id": "bYLINNjdigHJ"
   },
   "outputs": [],
   "source": [
    "X_new = df.drop(['state','churn'],axis = 1)\n",
    "y_new = df['churn']"
   ]
  },
  {
   "cell_type": "code",
   "execution_count": 29,
   "metadata": {
    "executionInfo": {
     "elapsed": 1051,
     "status": "ok",
     "timestamp": 1619332494119,
     "user": {
      "displayName": "sharan nixon",
      "photoUrl": "https://lh3.googleusercontent.com/a-/AOh14GiQANRG7wr96VjSyGXhpwieTJElWuCudRK5zPtL2w=s64",
      "userId": "00216778369807035243"
     },
     "user_tz": -330
    },
    "id": "rFD_4EZwiho5"
   },
   "outputs": [],
   "source": [
    "from sklearn.model_selection import train_test_split"
   ]
  },
  {
   "cell_type": "code",
   "execution_count": 30,
   "metadata": {
    "executionInfo": {
     "elapsed": 1253,
     "status": "ok",
     "timestamp": 1619332540003,
     "user": {
      "displayName": "sharan nixon",
      "photoUrl": "https://lh3.googleusercontent.com/a-/AOh14GiQANRG7wr96VjSyGXhpwieTJElWuCudRK5zPtL2w=s64",
      "userId": "00216778369807035243"
     },
     "user_tz": -330
    },
    "id": "c797XGrdija5"
   },
   "outputs": [],
   "source": [
    "X_train,X_test,y_train,y_test = train_test_split(X_new,y_new,test_size = 0.3,random_state = 42)"
   ]
  },
  {
   "cell_type": "code",
   "execution_count": 31,
   "metadata": {
    "colab": {
     "base_uri": "https://localhost:8080/"
    },
    "executionInfo": {
     "elapsed": 1038,
     "status": "ok",
     "timestamp": 1619332576853,
     "user": {
      "displayName": "sharan nixon",
      "photoUrl": "https://lh3.googleusercontent.com/a-/AOh14GiQANRG7wr96VjSyGXhpwieTJElWuCudRK5zPtL2w=s64",
      "userId": "00216778369807035243"
     },
     "user_tz": -330
    },
    "id": "p6DAqM5ginC4",
    "outputId": "074e33da-2765-4fc6-a991-7550ca20c0b7"
   },
   "outputs": [
    {
     "data": {
      "text/plain": [
       "((2975, 14), (2975,))"
      ]
     },
     "execution_count": 31,
     "metadata": {},
     "output_type": "execute_result"
    }
   ],
   "source": [
    "X_train.shape,y_train.shape"
   ]
  },
  {
   "cell_type": "code",
   "execution_count": 32,
   "metadata": {
    "colab": {
     "base_uri": "https://localhost:8080/"
    },
    "executionInfo": {
     "elapsed": 2552,
     "status": "ok",
     "timestamp": 1619332635832,
     "user": {
      "displayName": "sharan nixon",
      "photoUrl": "https://lh3.googleusercontent.com/a-/AOh14GiQANRG7wr96VjSyGXhpwieTJElWuCudRK5zPtL2w=s64",
      "userId": "00216778369807035243"
     },
     "user_tz": -330
    },
    "id": "3GNscQQFipZJ",
    "outputId": "db01ae99-9be7-4c95-b868-9e32711b3e88"
   },
   "outputs": [
    {
     "data": {
      "text/plain": [
       "RandomForestRegressor(random_state=42)"
      ]
     },
     "execution_count": 32,
     "metadata": {},
     "output_type": "execute_result"
    }
   ],
   "source": [
    "from sklearn.ensemble import RandomForestRegressor\n",
    "for_reg = RandomForestRegressor(random_state = 42)\n",
    "for_reg.fit(X_train,y_train)"
   ]
  },
  {
   "cell_type": "code",
   "execution_count": 33,
   "metadata": {
    "executionInfo": {
     "elapsed": 1261,
     "status": "ok",
     "timestamp": 1619332672655,
     "user": {
      "displayName": "sharan nixon",
      "photoUrl": "https://lh3.googleusercontent.com/a-/AOh14GiQANRG7wr96VjSyGXhpwieTJElWuCudRK5zPtL2w=s64",
      "userId": "00216778369807035243"
     },
     "user_tz": -330
    },
    "id": "ElV8p8sfirV5"
   },
   "outputs": [],
   "source": [
    "predict = for_reg.predict(X_test)"
   ]
  },
  {
   "cell_type": "code",
   "execution_count": 34,
   "metadata": {
    "executionInfo": {
     "elapsed": 1006,
     "status": "ok",
     "timestamp": 1619332677790,
     "user": {
      "displayName": "sharan nixon",
      "photoUrl": "https://lh3.googleusercontent.com/a-/AOh14GiQANRG7wr96VjSyGXhpwieTJElWuCudRK5zPtL2w=s64",
      "userId": "00216778369807035243"
     },
     "user_tz": -330
    },
    "id": "Zk3BGdVsi5QR"
   },
   "outputs": [],
   "source": [
    "from sklearn.metrics import accuracy_score"
   ]
  },
  {
   "cell_type": "code",
   "execution_count": 35,
   "metadata": {
    "colab": {
     "base_uri": "https://localhost:8080/"
    },
    "executionInfo": {
     "elapsed": 755,
     "status": "ok",
     "timestamp": 1619332702236,
     "user": {
      "displayName": "sharan nixon",
      "photoUrl": "https://lh3.googleusercontent.com/a-/AOh14GiQANRG7wr96VjSyGXhpwieTJElWuCudRK5zPtL2w=s64",
      "userId": "00216778369807035243"
     },
     "user_tz": -330
    },
    "id": "Js_z27p2i7jB",
    "outputId": "e044d3e9-7c6c-481f-93c9-6a528d1ae461"
   },
   "outputs": [
    {
     "data": {
      "text/plain": [
       "0.9537254901960784"
      ]
     },
     "execution_count": 35,
     "metadata": {},
     "output_type": "execute_result"
    }
   ],
   "source": [
    "accuracy_score(predict.round(),y_test)"
   ]
  },
  {
   "cell_type": "code",
   "execution_count": 36,
   "metadata": {
    "executionInfo": {
     "elapsed": 1044,
     "status": "ok",
     "timestamp": 1619332769838,
     "user": {
      "displayName": "sharan nixon",
      "photoUrl": "https://lh3.googleusercontent.com/a-/AOh14GiQANRG7wr96VjSyGXhpwieTJElWuCudRK5zPtL2w=s64",
      "userId": "00216778369807035243"
     },
     "user_tz": -330
    },
    "id": "3nPhzQQ2jAQa"
   },
   "outputs": [],
   "source": [
    "from sklearn.model_selection import GridSearchCV"
   ]
  },
  {
   "cell_type": "code",
   "execution_count": 37,
   "metadata": {
    "executionInfo": {
     "elapsed": 1218,
     "status": "ok",
     "timestamp": 1619332774417,
     "user": {
      "displayName": "sharan nixon",
      "photoUrl": "https://lh3.googleusercontent.com/a-/AOh14GiQANRG7wr96VjSyGXhpwieTJElWuCudRK5zPtL2w=s64",
      "userId": "00216778369807035243"
     },
     "user_tz": -330
    },
    "id": "K1PZPf8ljB-Z"
   },
   "outputs": [],
   "source": [
    "param_grid = [{'n_estimators':[10,100,1000] ,'max_features':[2,4,6,8,16]}] "
   ]
  },
  {
   "cell_type": "code",
   "execution_count": 40,
   "metadata": {
    "executionInfo": {
     "elapsed": 1043,
     "status": "ok",
     "timestamp": 1619332810234,
     "user": {
      "displayName": "sharan nixon",
      "photoUrl": "https://lh3.googleusercontent.com/a-/AOh14GiQANRG7wr96VjSyGXhpwieTJElWuCudRK5zPtL2w=s64",
      "userId": "00216778369807035243"
     },
     "user_tz": -330
    },
    "id": "iaAK311_jHBZ"
   },
   "outputs": [],
   "source": [
    "grid_search = GridSearchCV(for_reg,param_grid,cv = 3,scoring = 'neg_mean_squared_error',return_train_score = True,n_jobs = 3)"
   ]
  },
  {
   "cell_type": "code",
   "execution_count": 41,
   "metadata": {
    "colab": {
     "base_uri": "https://localhost:8080/"
    },
    "executionInfo": {
     "elapsed": 43629,
     "status": "ok",
     "timestamp": 1619332859897,
     "user": {
      "displayName": "sharan nixon",
      "photoUrl": "https://lh3.googleusercontent.com/a-/AOh14GiQANRG7wr96VjSyGXhpwieTJElWuCudRK5zPtL2w=s64",
      "userId": "00216778369807035243"
     },
     "user_tz": -330
    },
    "id": "MzBjhq4YjJFZ",
    "outputId": "7cf5378e-3147-4ed5-eee3-b6992d2a0e09"
   },
   "outputs": [
    {
     "data": {
      "text/plain": [
       "GridSearchCV(cv=3, estimator=RandomForestRegressor(random_state=42), n_jobs=3,\n",
       "             param_grid=[{'max_features': [2, 4, 6, 8, 16],\n",
       "                          'n_estimators': [10, 100, 1000]}],\n",
       "             return_train_score=True, scoring='neg_mean_squared_error')"
      ]
     },
     "execution_count": 41,
     "metadata": {},
     "output_type": "execute_result"
    }
   ],
   "source": [
    "grid_search.fit(X_train,y_train)"
   ]
  },
  {
   "cell_type": "code",
   "execution_count": 42,
   "metadata": {
    "colab": {
     "base_uri": "https://localhost:8080/"
    },
    "executionInfo": {
     "elapsed": 1003,
     "status": "ok",
     "timestamp": 1619332867824,
     "user": {
      "displayName": "sharan nixon",
      "photoUrl": "https://lh3.googleusercontent.com/a-/AOh14GiQANRG7wr96VjSyGXhpwieTJElWuCudRK5zPtL2w=s64",
      "userId": "00216778369807035243"
     },
     "user_tz": -330
    },
    "id": "ZPMBYg_LjKrp",
    "outputId": "864bf17e-6cb0-44fe-9e84-3f86f7f41826"
   },
   "outputs": [
    {
     "data": {
      "text/plain": [
       "{'max_features': 8, 'n_estimators': 100}"
      ]
     },
     "execution_count": 42,
     "metadata": {},
     "output_type": "execute_result"
    }
   ],
   "source": [
    "grid_search.best_params_"
   ]
  },
  {
   "cell_type": "code",
   "execution_count": 43,
   "metadata": {
    "colab": {
     "base_uri": "https://localhost:8080/"
    },
    "executionInfo": {
     "elapsed": 1624,
     "status": "ok",
     "timestamp": 1619332883826,
     "user": {
      "displayName": "sharan nixon",
      "photoUrl": "https://lh3.googleusercontent.com/a-/AOh14GiQANRG7wr96VjSyGXhpwieTJElWuCudRK5zPtL2w=s64",
      "userId": "00216778369807035243"
     },
     "user_tz": -330
    },
    "id": "LrAXmsK9jTji",
    "outputId": "24da0ae3-36a4-4e83-bf4a-2ea3bd1b8a92"
   },
   "outputs": [
    {
     "data": {
      "text/plain": [
       "RandomForestRegressor(max_features=8, random_state=42)"
      ]
     },
     "execution_count": 43,
     "metadata": {},
     "output_type": "execute_result"
    }
   ],
   "source": [
    "grid_search.best_estimator_"
   ]
  },
  {
   "cell_type": "code",
   "execution_count": 44,
   "metadata": {
    "executionInfo": {
     "elapsed": 1150,
     "status": "ok",
     "timestamp": 1619332928958,
     "user": {
      "displayName": "sharan nixon",
      "photoUrl": "https://lh3.googleusercontent.com/a-/AOh14GiQANRG7wr96VjSyGXhpwieTJElWuCudRK5zPtL2w=s64",
      "userId": "00216778369807035243"
     },
     "user_tz": -330
    },
    "id": "ZoFDc7DnjRNJ"
   },
   "outputs": [],
   "source": [
    "y_pred = grid_search.predict(X_test)\n"
   ]
  },
  {
   "cell_type": "code",
   "execution_count": 45,
   "metadata": {
    "executionInfo": {
     "elapsed": 1042,
     "status": "ok",
     "timestamp": 1619332931553,
     "user": {
      "displayName": "sharan nixon",
      "photoUrl": "https://lh3.googleusercontent.com/a-/AOh14GiQANRG7wr96VjSyGXhpwieTJElWuCudRK5zPtL2w=s64",
      "userId": "00216778369807035243"
     },
     "user_tz": -330
    },
    "id": "5rtDK7FcjWX5"
   },
   "outputs": [],
   "source": [
    "y_pred = y_pred.round()"
   ]
  },
  {
   "cell_type": "code",
   "execution_count": 46,
   "metadata": {
    "executionInfo": {
     "elapsed": 821,
     "status": "ok",
     "timestamp": 1619332934622,
     "user": {
      "displayName": "sharan nixon",
      "photoUrl": "https://lh3.googleusercontent.com/a-/AOh14GiQANRG7wr96VjSyGXhpwieTJElWuCudRK5zPtL2w=s64",
      "userId": "00216778369807035243"
     },
     "user_tz": -330
    },
    "id": "TOZn86vUjYDp"
   },
   "outputs": [],
   "source": [
    "score = accuracy_score(y_pred,y_test)"
   ]
  },
  {
   "cell_type": "code",
   "execution_count": 47,
   "metadata": {
    "colab": {
     "base_uri": "https://localhost:8080/"
    },
    "executionInfo": {
     "elapsed": 1473,
     "status": "ok",
     "timestamp": 1619332938907,
     "user": {
      "displayName": "sharan nixon",
      "photoUrl": "https://lh3.googleusercontent.com/a-/AOh14GiQANRG7wr96VjSyGXhpwieTJElWuCudRK5zPtL2w=s64",
      "userId": "00216778369807035243"
     },
     "user_tz": -330
    },
    "id": "B937dBy7jaWB",
    "outputId": "698b5904-a478-4237-b64a-e2d9db8fb11c"
   },
   "outputs": [
    {
     "name": "stdout",
     "output_type": "stream",
     "text": [
      "Accuracys is 95.45098039215686 %\n"
     ]
    }
   ],
   "source": [
    "print( \"Accuracys is\"+\" \"+ str(score*100),\"%\")"
   ]
  },
  {
   "cell_type": "code",
   "execution_count": 48,
   "metadata": {
    "executionInfo": {
     "elapsed": 1127,
     "status": "ok",
     "timestamp": 1619333231597,
     "user": {
      "displayName": "sharan nixon",
      "photoUrl": "https://lh3.googleusercontent.com/a-/AOh14GiQANRG7wr96VjSyGXhpwieTJElWuCudRK5zPtL2w=s64",
      "userId": "00216778369807035243"
     },
     "user_tz": -330
    },
    "id": "8yBEkmP9j2q5"
   },
   "outputs": [],
   "source": [
    "X_new_test = test.drop(['id','state'],axis = 1)"
   ]
  },
  {
   "cell_type": "code",
   "execution_count": 49,
   "metadata": {
    "colab": {
     "base_uri": "https://localhost:8080/"
    },
    "executionInfo": {
     "elapsed": 1318,
     "status": "ok",
     "timestamp": 1619333233754,
     "user": {
      "displayName": "sharan nixon",
      "photoUrl": "https://lh3.googleusercontent.com/a-/AOh14GiQANRG7wr96VjSyGXhpwieTJElWuCudRK5zPtL2w=s64",
      "userId": "00216778369807035243"
     },
     "user_tz": -330
    },
    "id": "fQwMrLBBrrf6",
    "outputId": "d1292b6e-fc81-4e12-98c3-404cc377d0f4"
   },
   "outputs": [
    {
     "data": {
      "text/plain": [
       "(750, 14)"
      ]
     },
     "execution_count": 49,
     "metadata": {},
     "output_type": "execute_result"
    }
   ],
   "source": [
    "X_new_test.shape"
   ]
  },
  {
   "cell_type": "code",
   "execution_count": 50,
   "metadata": {
    "colab": {
     "base_uri": "https://localhost:8080/",
     "height": 422
    },
    "executionInfo": {
     "elapsed": 939,
     "status": "ok",
     "timestamp": 1619333234876,
     "user": {
      "displayName": "sharan nixon",
      "photoUrl": "https://lh3.googleusercontent.com/a-/AOh14GiQANRG7wr96VjSyGXhpwieTJElWuCudRK5zPtL2w=s64",
      "userId": "00216778369807035243"
     },
     "user_tz": -330
    },
    "id": "G_2tU0r-rk5z",
    "outputId": "186d8161-0f9d-4b69-ae59-16dab0539369"
   },
   "outputs": [
    {
     "data": {
      "text/html": [
       "<div>\n",
       "<style scoped>\n",
       "    .dataframe tbody tr th:only-of-type {\n",
       "        vertical-align: middle;\n",
       "    }\n",
       "\n",
       "    .dataframe tbody tr th {\n",
       "        vertical-align: top;\n",
       "    }\n",
       "\n",
       "    .dataframe thead th {\n",
       "        text-align: right;\n",
       "    }\n",
       "</style>\n",
       "<table border=\"1\" class=\"dataframe\">\n",
       "  <thead>\n",
       "    <tr style=\"text-align: right;\">\n",
       "      <th></th>\n",
       "      <th>account_length</th>\n",
       "      <th>area_code</th>\n",
       "      <th>international_plan</th>\n",
       "      <th>voice_mail_plan</th>\n",
       "      <th>number_vmail_messages</th>\n",
       "      <th>total_day_calls</th>\n",
       "      <th>total_day_charge</th>\n",
       "      <th>total_eve_calls</th>\n",
       "      <th>total_eve_charge</th>\n",
       "      <th>total_night_calls</th>\n",
       "      <th>total_night_charge</th>\n",
       "      <th>total_intl_calls</th>\n",
       "      <th>total_intl_charge</th>\n",
       "      <th>number_customer_service_calls</th>\n",
       "    </tr>\n",
       "  </thead>\n",
       "  <tbody>\n",
       "    <tr>\n",
       "      <th>0</th>\n",
       "      <td>128</td>\n",
       "      <td>415</td>\n",
       "      <td>0</td>\n",
       "      <td>1</td>\n",
       "      <td>25</td>\n",
       "      <td>110</td>\n",
       "      <td>45.07</td>\n",
       "      <td>99</td>\n",
       "      <td>16.78</td>\n",
       "      <td>91</td>\n",
       "      <td>11.01</td>\n",
       "      <td>3</td>\n",
       "      <td>2.70</td>\n",
       "      <td>1</td>\n",
       "    </tr>\n",
       "    <tr>\n",
       "      <th>1</th>\n",
       "      <td>118</td>\n",
       "      <td>510</td>\n",
       "      <td>1</td>\n",
       "      <td>0</td>\n",
       "      <td>0</td>\n",
       "      <td>98</td>\n",
       "      <td>37.98</td>\n",
       "      <td>101</td>\n",
       "      <td>18.75</td>\n",
       "      <td>118</td>\n",
       "      <td>9.18</td>\n",
       "      <td>6</td>\n",
       "      <td>1.70</td>\n",
       "      <td>0</td>\n",
       "    </tr>\n",
       "    <tr>\n",
       "      <th>2</th>\n",
       "      <td>62</td>\n",
       "      <td>415</td>\n",
       "      <td>0</td>\n",
       "      <td>0</td>\n",
       "      <td>0</td>\n",
       "      <td>70</td>\n",
       "      <td>20.52</td>\n",
       "      <td>76</td>\n",
       "      <td>26.11</td>\n",
       "      <td>99</td>\n",
       "      <td>9.14</td>\n",
       "      <td>6</td>\n",
       "      <td>3.54</td>\n",
       "      <td>4</td>\n",
       "    </tr>\n",
       "    <tr>\n",
       "      <th>3</th>\n",
       "      <td>93</td>\n",
       "      <td>510</td>\n",
       "      <td>0</td>\n",
       "      <td>0</td>\n",
       "      <td>0</td>\n",
       "      <td>114</td>\n",
       "      <td>32.42</td>\n",
       "      <td>111</td>\n",
       "      <td>18.55</td>\n",
       "      <td>121</td>\n",
       "      <td>5.83</td>\n",
       "      <td>3</td>\n",
       "      <td>2.19</td>\n",
       "      <td>3</td>\n",
       "    </tr>\n",
       "    <tr>\n",
       "      <th>4</th>\n",
       "      <td>174</td>\n",
       "      <td>415</td>\n",
       "      <td>0</td>\n",
       "      <td>0</td>\n",
       "      <td>0</td>\n",
       "      <td>76</td>\n",
       "      <td>21.13</td>\n",
       "      <td>112</td>\n",
       "      <td>23.55</td>\n",
       "      <td>115</td>\n",
       "      <td>11.28</td>\n",
       "      <td>5</td>\n",
       "      <td>4.19</td>\n",
       "      <td>3</td>\n",
       "    </tr>\n",
       "    <tr>\n",
       "      <th>...</th>\n",
       "      <td>...</td>\n",
       "      <td>...</td>\n",
       "      <td>...</td>\n",
       "      <td>...</td>\n",
       "      <td>...</td>\n",
       "      <td>...</td>\n",
       "      <td>...</td>\n",
       "      <td>...</td>\n",
       "      <td>...</td>\n",
       "      <td>...</td>\n",
       "      <td>...</td>\n",
       "      <td>...</td>\n",
       "      <td>...</td>\n",
       "      <td>...</td>\n",
       "    </tr>\n",
       "    <tr>\n",
       "      <th>745</th>\n",
       "      <td>130</td>\n",
       "      <td>415</td>\n",
       "      <td>0</td>\n",
       "      <td>0</td>\n",
       "      <td>0</td>\n",
       "      <td>99</td>\n",
       "      <td>20.30</td>\n",
       "      <td>97</td>\n",
       "      <td>19.24</td>\n",
       "      <td>111</td>\n",
       "      <td>9.12</td>\n",
       "      <td>7</td>\n",
       "      <td>3.05</td>\n",
       "      <td>0</td>\n",
       "    </tr>\n",
       "    <tr>\n",
       "      <th>746</th>\n",
       "      <td>73</td>\n",
       "      <td>408</td>\n",
       "      <td>0</td>\n",
       "      <td>0</td>\n",
       "      <td>0</td>\n",
       "      <td>118</td>\n",
       "      <td>30.12</td>\n",
       "      <td>84</td>\n",
       "      <td>22.99</td>\n",
       "      <td>112</td>\n",
       "      <td>10.88</td>\n",
       "      <td>2</td>\n",
       "      <td>3.32</td>\n",
       "      <td>3</td>\n",
       "    </tr>\n",
       "    <tr>\n",
       "      <th>747</th>\n",
       "      <td>152</td>\n",
       "      <td>415</td>\n",
       "      <td>0</td>\n",
       "      <td>0</td>\n",
       "      <td>0</td>\n",
       "      <td>90</td>\n",
       "      <td>31.31</td>\n",
       "      <td>73</td>\n",
       "      <td>21.83</td>\n",
       "      <td>113</td>\n",
       "      <td>9.61</td>\n",
       "      <td>2</td>\n",
       "      <td>3.97</td>\n",
       "      <td>3</td>\n",
       "    </tr>\n",
       "    <tr>\n",
       "      <th>748</th>\n",
       "      <td>61</td>\n",
       "      <td>415</td>\n",
       "      <td>0</td>\n",
       "      <td>0</td>\n",
       "      <td>0</td>\n",
       "      <td>89</td>\n",
       "      <td>23.90</td>\n",
       "      <td>128</td>\n",
       "      <td>14.69</td>\n",
       "      <td>97</td>\n",
       "      <td>9.56</td>\n",
       "      <td>4</td>\n",
       "      <td>3.67</td>\n",
       "      <td>1</td>\n",
       "    </tr>\n",
       "    <tr>\n",
       "      <th>749</th>\n",
       "      <td>109</td>\n",
       "      <td>510</td>\n",
       "      <td>0</td>\n",
       "      <td>0</td>\n",
       "      <td>0</td>\n",
       "      <td>67</td>\n",
       "      <td>32.10</td>\n",
       "      <td>92</td>\n",
       "      <td>14.59</td>\n",
       "      <td>89</td>\n",
       "      <td>10.10</td>\n",
       "      <td>6</td>\n",
       "      <td>2.30</td>\n",
       "      <td>0</td>\n",
       "    </tr>\n",
       "  </tbody>\n",
       "</table>\n",
       "<p>750 rows × 14 columns</p>\n",
       "</div>"
      ],
      "text/plain": [
       "     account_length  area_code  international_plan  voice_mail_plan  \\\n",
       "0               128        415                   0                1   \n",
       "1               118        510                   1                0   \n",
       "2                62        415                   0                0   \n",
       "3                93        510                   0                0   \n",
       "4               174        415                   0                0   \n",
       "..              ...        ...                 ...              ...   \n",
       "745             130        415                   0                0   \n",
       "746              73        408                   0                0   \n",
       "747             152        415                   0                0   \n",
       "748              61        415                   0                0   \n",
       "749             109        510                   0                0   \n",
       "\n",
       "     number_vmail_messages  total_day_calls  total_day_charge  \\\n",
       "0                       25              110             45.07   \n",
       "1                        0               98             37.98   \n",
       "2                        0               70             20.52   \n",
       "3                        0              114             32.42   \n",
       "4                        0               76             21.13   \n",
       "..                     ...              ...               ...   \n",
       "745                      0               99             20.30   \n",
       "746                      0              118             30.12   \n",
       "747                      0               90             31.31   \n",
       "748                      0               89             23.90   \n",
       "749                      0               67             32.10   \n",
       "\n",
       "     total_eve_calls  total_eve_charge  total_night_calls  total_night_charge  \\\n",
       "0                 99             16.78                 91               11.01   \n",
       "1                101             18.75                118                9.18   \n",
       "2                 76             26.11                 99                9.14   \n",
       "3                111             18.55                121                5.83   \n",
       "4                112             23.55                115               11.28   \n",
       "..               ...               ...                ...                 ...   \n",
       "745               97             19.24                111                9.12   \n",
       "746               84             22.99                112               10.88   \n",
       "747               73             21.83                113                9.61   \n",
       "748              128             14.69                 97                9.56   \n",
       "749               92             14.59                 89               10.10   \n",
       "\n",
       "     total_intl_calls  total_intl_charge  number_customer_service_calls  \n",
       "0                   3               2.70                              1  \n",
       "1                   6               1.70                              0  \n",
       "2                   6               3.54                              4  \n",
       "3                   3               2.19                              3  \n",
       "4                   5               4.19                              3  \n",
       "..                ...                ...                            ...  \n",
       "745                 7               3.05                              0  \n",
       "746                 2               3.32                              3  \n",
       "747                 2               3.97                              3  \n",
       "748                 4               3.67                              1  \n",
       "749                 6               2.30                              0  \n",
       "\n",
       "[750 rows x 14 columns]"
      ]
     },
     "execution_count": 50,
     "metadata": {},
     "output_type": "execute_result"
    }
   ],
   "source": [
    "X_new_test"
   ]
  },
  {
   "cell_type": "code",
   "execution_count": 51,
   "metadata": {
    "executionInfo": {
     "elapsed": 886,
     "status": "ok",
     "timestamp": 1619333238450,
     "user": {
      "displayName": "sharan nixon",
      "photoUrl": "https://lh3.googleusercontent.com/a-/AOh14GiQANRG7wr96VjSyGXhpwieTJElWuCudRK5zPtL2w=s64",
      "userId": "00216778369807035243"
     },
     "user_tz": -330
    },
    "id": "4WK6idVxj8Mh"
   },
   "outputs": [],
   "source": [
    "X_test_std = scaler.fit_transform(X_new_test)"
   ]
  },
  {
   "cell_type": "code",
   "execution_count": 52,
   "metadata": {
    "executionInfo": {
     "elapsed": 1281,
     "status": "ok",
     "timestamp": 1619333242741,
     "user": {
      "displayName": "sharan nixon",
      "photoUrl": "https://lh3.googleusercontent.com/a-/AOh14GiQANRG7wr96VjSyGXhpwieTJElWuCudRK5zPtL2w=s64",
      "userId": "00216778369807035243"
     },
     "user_tz": -330
    },
    "id": "D2o_d-TOj9cy"
   },
   "outputs": [],
   "source": [
    "df_test = pd.DataFrame(X_test_std,columns = test.columns[2:])"
   ]
  },
  {
   "cell_type": "code",
   "execution_count": 53,
   "metadata": {
    "executionInfo": {
     "elapsed": 1744,
     "status": "ok",
     "timestamp": 1619333246887,
     "user": {
      "displayName": "sharan nixon",
      "photoUrl": "https://lh3.googleusercontent.com/a-/AOh14GiQANRG7wr96VjSyGXhpwieTJElWuCudRK5zPtL2w=s64",
      "userId": "00216778369807035243"
     },
     "user_tz": -330
    },
    "id": "SapEnffuj_kx"
   },
   "outputs": [],
   "source": [
    "predict_test = grid_search.predict(df_test)"
   ]
  },
  {
   "cell_type": "code",
   "execution_count": 54,
   "metadata": {
    "executionInfo": {
     "elapsed": 1067,
     "status": "ok",
     "timestamp": 1619333248695,
     "user": {
      "displayName": "sharan nixon",
      "photoUrl": "https://lh3.googleusercontent.com/a-/AOh14GiQANRG7wr96VjSyGXhpwieTJElWuCudRK5zPtL2w=s64",
      "userId": "00216778369807035243"
     },
     "user_tz": -330
    },
    "id": "qoqgsG-6kDOp"
   },
   "outputs": [],
   "source": [
    "pred_value_1 = predict_test.round()"
   ]
  },
  {
   "cell_type": "code",
   "execution_count": 55,
   "metadata": {
    "executionInfo": {
     "elapsed": 944,
     "status": "ok",
     "timestamp": 1619333252666,
     "user": {
      "displayName": "sharan nixon",
      "photoUrl": "https://lh3.googleusercontent.com/a-/AOh14GiQANRG7wr96VjSyGXhpwieTJElWuCudRK5zPtL2w=s64",
      "userId": "00216778369807035243"
     },
     "user_tz": -330
    },
    "id": "q410V6S3mN8C"
   },
   "outputs": [],
   "source": [
    "import numpy as np"
   ]
  },
  {
   "cell_type": "code",
   "execution_count": 56,
   "metadata": {
    "executionInfo": {
     "elapsed": 1340,
     "status": "ok",
     "timestamp": 1619333256495,
     "user": {
      "displayName": "sharan nixon",
      "photoUrl": "https://lh3.googleusercontent.com/a-/AOh14GiQANRG7wr96VjSyGXhpwieTJElWuCudRK5zPtL2w=s64",
      "userId": "00216778369807035243"
     },
     "user_tz": -330
    },
    "id": "lwOyUoFykIpr"
   },
   "outputs": [],
   "source": [
    "pred_value_1 = np.where(pred_value_1 == 0,'no','yes')"
   ]
  },
  {
   "cell_type": "code",
   "execution_count": 57,
   "metadata": {
    "colab": {
     "base_uri": "https://localhost:8080/"
    },
    "executionInfo": {
     "elapsed": 1046,
     "status": "ok",
     "timestamp": 1619333270887,
     "user": {
      "displayName": "sharan nixon",
      "photoUrl": "https://lh3.googleusercontent.com/a-/AOh14GiQANRG7wr96VjSyGXhpwieTJElWuCudRK5zPtL2w=s64",
      "userId": "00216778369807035243"
     },
     "user_tz": -330
    },
    "id": "fnktZIi_yK4Q",
    "outputId": "c8d3263d-51a3-4bac-fbba-331376de1a01"
   },
   "outputs": [
    {
     "data": {
      "text/plain": [
       "array(['no', 'no', 'yes', 'no', 'no', 'no', 'no', 'no', 'no', 'yes',\n",
       "       'yes', 'no', 'no', 'no', 'no', 'no', 'no', 'no', 'no', 'no', 'no',\n",
       "       'no', 'no', 'no', 'no', 'no', 'yes', 'no', 'no', 'no', 'no', 'no',\n",
       "       'no', 'no', 'no', 'no', 'no', 'yes', 'no', 'yes', 'no', 'no', 'no',\n",
       "       'no', 'no', 'no', 'no', 'no', 'no', 'no', 'yes', 'no', 'no', 'no',\n",
       "       'yes', 'no', 'no', 'no', 'yes', 'no', 'no', 'no', 'yes', 'no',\n",
       "       'no', 'no', 'no', 'no', 'yes', 'no', 'no', 'no', 'yes', 'no', 'no',\n",
       "       'no', 'no', 'no', 'no', 'no', 'no', 'no', 'no', 'no', 'no', 'no',\n",
       "       'no', 'no', 'no', 'no', 'no', 'yes', 'no', 'yes', 'no', 'no', 'no',\n",
       "       'no', 'no', 'yes', 'no', 'no', 'no', 'no', 'yes', 'no', 'no', 'no',\n",
       "       'yes', 'no', 'no', 'no', 'no', 'no', 'no', 'no', 'no', 'no', 'yes',\n",
       "       'no', 'no', 'yes', 'no', 'no', 'no', 'no', 'no', 'no', 'no', 'no',\n",
       "       'no', 'no', 'no', 'no', 'no', 'no', 'no', 'no', 'no', 'no', 'yes',\n",
       "       'yes', 'no', 'no', 'no', 'no', 'no', 'no', 'no', 'yes', 'no', 'no',\n",
       "       'no', 'no', 'no', 'no', 'no', 'no', 'no', 'no', 'no', 'yes', 'no',\n",
       "       'no', 'no', 'no', 'no', 'no', 'no', 'no', 'no', 'no', 'no', 'no',\n",
       "       'no', 'no', 'yes', 'no', 'no', 'no', 'no', 'no', 'no', 'yes', 'no',\n",
       "       'no', 'yes', 'no', 'no', 'no', 'no', 'no', 'no', 'no', 'no', 'no',\n",
       "       'yes', 'no', 'no', 'no', 'yes', 'no', 'yes', 'yes', 'no', 'no',\n",
       "       'no', 'no', 'no', 'no', 'no', 'no', 'no', 'no', 'no', 'no', 'no',\n",
       "       'no', 'no', 'yes', 'no', 'no', 'no', 'no', 'no', 'no', 'no', 'yes',\n",
       "       'no', 'no', 'no', 'no', 'yes', 'no', 'no', 'no', 'no', 'no', 'no',\n",
       "       'no', 'no', 'yes', 'no', 'no', 'no', 'no', 'no', 'no', 'no', 'no',\n",
       "       'no', 'no', 'no', 'yes', 'no', 'no', 'no', 'no', 'no', 'no', 'no',\n",
       "       'no', 'no', 'no', 'no', 'no', 'no', 'no', 'yes', 'no', 'no', 'no',\n",
       "       'no', 'yes', 'no', 'yes', 'no', 'no', 'no', 'no', 'no', 'no', 'no',\n",
       "       'no', 'no', 'no', 'no', 'no', 'no', 'no', 'no', 'yes', 'no', 'no',\n",
       "       'no', 'no', 'no', 'no', 'no', 'no', 'no', 'no', 'yes', 'no', 'no',\n",
       "       'no', 'no', 'no', 'no', 'no', 'no', 'no', 'no', 'no', 'no', 'no',\n",
       "       'no', 'no', 'yes', 'no', 'no', 'no', 'no', 'yes', 'no', 'no', 'no',\n",
       "       'yes', 'no', 'no', 'no', 'yes', 'no', 'no', 'no', 'no', 'no', 'no',\n",
       "       'no', 'no', 'no', 'no', 'no', 'no', 'no', 'no', 'no', 'no', 'no',\n",
       "       'no', 'no', 'no', 'no', 'no', 'no', 'yes', 'no', 'yes', 'no', 'no',\n",
       "       'yes', 'yes', 'yes', 'no', 'no', 'yes', 'no', 'yes', 'no', 'no',\n",
       "       'yes', 'no', 'no', 'no', 'no', 'no', 'no', 'no', 'no', 'no', 'no',\n",
       "       'no', 'no', 'yes', 'no', 'no', 'no', 'no', 'no', 'no', 'yes', 'no',\n",
       "       'no', 'no', 'yes', 'no', 'no', 'yes', 'no', 'yes', 'no', 'no',\n",
       "       'no', 'no', 'yes', 'no', 'no', 'no', 'no', 'yes', 'no', 'no',\n",
       "       'yes', 'no', 'no', 'no', 'no', 'yes', 'no', 'no', 'no', 'no', 'no',\n",
       "       'no', 'no', 'no', 'yes', 'no', 'no', 'no', 'no', 'no', 'no', 'no',\n",
       "       'no', 'no', 'no', 'no', 'no', 'no', 'no', 'no', 'no', 'no', 'yes',\n",
       "       'no', 'no', 'no', 'no', 'no', 'no', 'no', 'no', 'yes', 'yes', 'no',\n",
       "       'no', 'no', 'no', 'no', 'no', 'no', 'no', 'no', 'no', 'no', 'no',\n",
       "       'no', 'no', 'no', 'no', 'no', 'no', 'no', 'no', 'no', 'no', 'no',\n",
       "       'no', 'no', 'no', 'no', 'no', 'no', 'no', 'no', 'no', 'no', 'no',\n",
       "       'yes', 'no', 'no', 'no', 'no', 'yes', 'no', 'no', 'no', 'no', 'no',\n",
       "       'no', 'no', 'no', 'no', 'no', 'no', 'no', 'no', 'no', 'no', 'no',\n",
       "       'no', 'no', 'no', 'no', 'no', 'no', 'no', 'no', 'no', 'no', 'no',\n",
       "       'no', 'no', 'no', 'no', 'yes', 'no', 'no', 'no', 'no', 'no', 'no',\n",
       "       'no', 'no', 'yes', 'no', 'no', 'no', 'no', 'no', 'no', 'no', 'no',\n",
       "       'no', 'no', 'no', 'no', 'no', 'no', 'no', 'no', 'no', 'no', 'no',\n",
       "       'no', 'no', 'no', 'no', 'no', 'no', 'no', 'yes', 'no', 'yes', 'no',\n",
       "       'no', 'no', 'no', 'no', 'no', 'yes', 'no', 'no', 'yes', 'yes',\n",
       "       'no', 'no', 'no', 'no', 'no', 'no', 'no', 'no', 'no', 'no', 'no',\n",
       "       'no', 'no', 'no', 'no', 'no', 'no', 'no', 'no', 'yes', 'no', 'yes',\n",
       "       'no', 'no', 'no', 'no', 'no', 'no', 'no', 'no', 'no', 'no', 'no',\n",
       "       'no', 'no', 'yes', 'no', 'no', 'no', 'no', 'no', 'no', 'no', 'no',\n",
       "       'no', 'no', 'no', 'no', 'no', 'no', 'no', 'no', 'no', 'no', 'no',\n",
       "       'no', 'no', 'no', 'no', 'yes', 'no', 'yes', 'no', 'no', 'no', 'no',\n",
       "       'no', 'no', 'no', 'yes', 'no', 'yes', 'no', 'no', 'yes', 'no',\n",
       "       'no', 'no', 'no', 'no', 'yes', 'yes', 'no', 'no', 'no', 'no',\n",
       "       'yes', 'no', 'no', 'no', 'no', 'no', 'no', 'no', 'no', 'no', 'no',\n",
       "       'no', 'no', 'no', 'no', 'no', 'no', 'no', 'no', 'no', 'no', 'no',\n",
       "       'yes', 'no', 'no', 'no', 'no', 'no', 'no', 'yes', 'no', 'no', 'no',\n",
       "       'no', 'no', 'no', 'yes', 'no', 'no', 'no', 'no', 'no', 'no', 'no',\n",
       "       'no', 'yes', 'no', 'no', 'no', 'no', 'yes', 'no', 'no', 'no', 'no',\n",
       "       'no', 'no', 'yes', 'no', 'no', 'no', 'no', 'no', 'no', 'no', 'no',\n",
       "       'no', 'no', 'no', 'no', 'no', 'no', 'no', 'no', 'yes', 'no', 'yes',\n",
       "       'no', 'no', 'no', 'no', 'no', 'no', 'no', 'no', 'no', 'no', 'no'],\n",
       "      dtype='<U3')"
      ]
     },
     "execution_count": 57,
     "metadata": {},
     "output_type": "execute_result"
    }
   ],
   "source": [
    "pred_value_1"
   ]
  },
  {
   "cell_type": "code",
   "execution_count": 58,
   "metadata": {
    "executionInfo": {
     "elapsed": 1027,
     "status": "ok",
     "timestamp": 1619333298536,
     "user": {
      "displayName": "sharan nixon",
      "photoUrl": "https://lh3.googleusercontent.com/a-/AOh14GiQANRG7wr96VjSyGXhpwieTJElWuCudRK5zPtL2w=s64",
      "userId": "00216778369807035243"
     },
     "user_tz": -330
    },
    "id": "BbAZaQpRlBKB"
   },
   "outputs": [],
   "source": [
    "model=grid_search"
   ]
  },
  {
   "cell_type": "code",
   "execution_count": 59,
   "metadata": {
    "executionInfo": {
     "elapsed": 1153,
     "status": "ok",
     "timestamp": 1619333339384,
     "user": {
      "displayName": "sharan nixon",
      "photoUrl": "https://lh3.googleusercontent.com/a-/AOh14GiQANRG7wr96VjSyGXhpwieTJElWuCudRK5zPtL2w=s64",
      "userId": "00216778369807035243"
     },
     "user_tz": -330
    },
    "id": "8K_qNT72kmrR"
   },
   "outputs": [],
   "source": [
    "import pickle\n",
    "filename = 'finalized_model.sav'\n",
    "pickle.dump(model, open(filename, 'wb'))"
   ]
  },
  {
   "cell_type": "code",
   "execution_count": 60,
   "metadata": {
    "colab": {
     "base_uri": "https://localhost:8080/",
     "height": 422
    },
    "executionInfo": {
     "elapsed": 1046,
     "status": "ok",
     "timestamp": 1619333385112,
     "user": {
      "displayName": "sharan nixon",
      "photoUrl": "https://lh3.googleusercontent.com/a-/AOh14GiQANRG7wr96VjSyGXhpwieTJElWuCudRK5zPtL2w=s64",
      "userId": "00216778369807035243"
     },
     "user_tz": -330
    },
    "id": "QUH76mPHn4sT",
    "outputId": "3c9d07ee-9be2-4d19-96ae-5636dfc9066b"
   },
   "outputs": [
    {
     "data": {
      "text/html": [
       "<div>\n",
       "<style scoped>\n",
       "    .dataframe tbody tr th:only-of-type {\n",
       "        vertical-align: middle;\n",
       "    }\n",
       "\n",
       "    .dataframe tbody tr th {\n",
       "        vertical-align: top;\n",
       "    }\n",
       "\n",
       "    .dataframe thead th {\n",
       "        text-align: right;\n",
       "    }\n",
       "</style>\n",
       "<table border=\"1\" class=\"dataframe\">\n",
       "  <thead>\n",
       "    <tr style=\"text-align: right;\">\n",
       "      <th></th>\n",
       "      <th>account_length</th>\n",
       "      <th>area_code</th>\n",
       "      <th>international_plan</th>\n",
       "      <th>voice_mail_plan</th>\n",
       "      <th>number_vmail_messages</th>\n",
       "      <th>total_day_calls</th>\n",
       "      <th>total_day_charge</th>\n",
       "      <th>total_eve_calls</th>\n",
       "      <th>total_eve_charge</th>\n",
       "      <th>total_night_calls</th>\n",
       "      <th>total_night_charge</th>\n",
       "      <th>total_intl_calls</th>\n",
       "      <th>total_intl_charge</th>\n",
       "      <th>number_customer_service_calls</th>\n",
       "    </tr>\n",
       "  </thead>\n",
       "  <tbody>\n",
       "    <tr>\n",
       "      <th>0</th>\n",
       "      <td>0.696065</td>\n",
       "      <td>-0.530150</td>\n",
       "      <td>-0.338250</td>\n",
       "      <td>1.598281</td>\n",
       "      <td>1.172240</td>\n",
       "      <td>0.470870</td>\n",
       "      <td>1.590686</td>\n",
       "      <td>-0.065790</td>\n",
       "      <td>-0.112140</td>\n",
       "      <td>-0.488757</td>\n",
       "      <td>0.874772</td>\n",
       "      <td>-0.613702</td>\n",
       "      <td>-0.106976</td>\n",
       "      <td>-0.497639</td>\n",
       "    </tr>\n",
       "    <tr>\n",
       "      <th>1</th>\n",
       "      <td>0.444001</td>\n",
       "      <td>1.713048</td>\n",
       "      <td>2.956393</td>\n",
       "      <td>-0.625672</td>\n",
       "      <td>-0.599015</td>\n",
       "      <td>-0.138101</td>\n",
       "      <td>0.807063</td>\n",
       "      <td>0.037545</td>\n",
       "      <td>0.332287</td>\n",
       "      <td>0.919514</td>\n",
       "      <td>0.085085</td>\n",
       "      <td>0.625821</td>\n",
       "      <td>-1.445297</td>\n",
       "      <td>-1.281734</td>\n",
       "    </tr>\n",
       "    <tr>\n",
       "      <th>2</th>\n",
       "      <td>-0.967554</td>\n",
       "      <td>-0.530150</td>\n",
       "      <td>-0.338250</td>\n",
       "      <td>-0.625672</td>\n",
       "      <td>-0.599015</td>\n",
       "      <td>-1.559032</td>\n",
       "      <td>-1.122705</td>\n",
       "      <td>-1.254136</td>\n",
       "      <td>1.992682</td>\n",
       "      <td>-0.071491</td>\n",
       "      <td>0.067824</td>\n",
       "      <td>0.625821</td>\n",
       "      <td>1.017213</td>\n",
       "      <td>1.854646</td>\n",
       "    </tr>\n",
       "    <tr>\n",
       "      <th>3</th>\n",
       "      <td>-0.186157</td>\n",
       "      <td>1.713048</td>\n",
       "      <td>-0.338250</td>\n",
       "      <td>-0.625672</td>\n",
       "      <td>-0.599015</td>\n",
       "      <td>0.673860</td>\n",
       "      <td>0.192544</td>\n",
       "      <td>0.554217</td>\n",
       "      <td>0.287167</td>\n",
       "      <td>1.075989</td>\n",
       "      <td>-1.360517</td>\n",
       "      <td>-0.613702</td>\n",
       "      <td>-0.789520</td>\n",
       "      <td>1.070551</td>\n",
       "    </tr>\n",
       "    <tr>\n",
       "      <th>4</th>\n",
       "      <td>1.855557</td>\n",
       "      <td>-0.530150</td>\n",
       "      <td>-0.338250</td>\n",
       "      <td>-0.625672</td>\n",
       "      <td>-0.599015</td>\n",
       "      <td>-1.254547</td>\n",
       "      <td>-1.055285</td>\n",
       "      <td>0.605885</td>\n",
       "      <td>1.415153</td>\n",
       "      <td>0.763040</td>\n",
       "      <td>0.991283</td>\n",
       "      <td>0.212647</td>\n",
       "      <td>1.887122</td>\n",
       "      <td>1.070551</td>\n",
       "    </tr>\n",
       "    <tr>\n",
       "      <th>...</th>\n",
       "      <td>...</td>\n",
       "      <td>...</td>\n",
       "      <td>...</td>\n",
       "      <td>...</td>\n",
       "      <td>...</td>\n",
       "      <td>...</td>\n",
       "      <td>...</td>\n",
       "      <td>...</td>\n",
       "      <td>...</td>\n",
       "      <td>...</td>\n",
       "      <td>...</td>\n",
       "      <td>...</td>\n",
       "      <td>...</td>\n",
       "      <td>...</td>\n",
       "    </tr>\n",
       "    <tr>\n",
       "      <th>745</th>\n",
       "      <td>0.746477</td>\n",
       "      <td>-0.530150</td>\n",
       "      <td>-0.338250</td>\n",
       "      <td>-0.625672</td>\n",
       "      <td>-0.599015</td>\n",
       "      <td>-0.087353</td>\n",
       "      <td>-1.147021</td>\n",
       "      <td>-0.169124</td>\n",
       "      <td>0.442829</td>\n",
       "      <td>0.554407</td>\n",
       "      <td>0.059193</td>\n",
       "      <td>1.038996</td>\n",
       "      <td>0.361436</td>\n",
       "      <td>-1.281734</td>\n",
       "    </tr>\n",
       "    <tr>\n",
       "      <th>746</th>\n",
       "      <td>-0.690284</td>\n",
       "      <td>-0.695439</td>\n",
       "      <td>-0.338250</td>\n",
       "      <td>-0.625672</td>\n",
       "      <td>-0.599015</td>\n",
       "      <td>0.876850</td>\n",
       "      <td>-0.061664</td>\n",
       "      <td>-0.840798</td>\n",
       "      <td>1.288819</td>\n",
       "      <td>0.606565</td>\n",
       "      <td>0.818674</td>\n",
       "      <td>-1.026876</td>\n",
       "      <td>0.722782</td>\n",
       "      <td>1.070551</td>\n",
       "    </tr>\n",
       "    <tr>\n",
       "      <th>747</th>\n",
       "      <td>1.301017</td>\n",
       "      <td>-0.530150</td>\n",
       "      <td>-0.338250</td>\n",
       "      <td>-0.625672</td>\n",
       "      <td>-0.599015</td>\n",
       "      <td>-0.544081</td>\n",
       "      <td>0.069861</td>\n",
       "      <td>-1.409138</td>\n",
       "      <td>1.027126</td>\n",
       "      <td>0.658723</td>\n",
       "      <td>0.270640</td>\n",
       "      <td>-1.026876</td>\n",
       "      <td>1.592691</td>\n",
       "      <td>1.070551</td>\n",
       "    </tr>\n",
       "    <tr>\n",
       "      <th>748</th>\n",
       "      <td>-0.992760</td>\n",
       "      <td>-0.530150</td>\n",
       "      <td>-0.338250</td>\n",
       "      <td>-0.625672</td>\n",
       "      <td>-0.599015</td>\n",
       "      <td>-0.594829</td>\n",
       "      <td>-0.749130</td>\n",
       "      <td>1.432561</td>\n",
       "      <td>-0.583638</td>\n",
       "      <td>-0.175808</td>\n",
       "      <td>0.249064</td>\n",
       "      <td>-0.200527</td>\n",
       "      <td>1.191195</td>\n",
       "      <td>-0.497639</td>\n",
       "    </tr>\n",
       "    <tr>\n",
       "      <th>749</th>\n",
       "      <td>0.217144</td>\n",
       "      <td>1.713048</td>\n",
       "      <td>-0.338250</td>\n",
       "      <td>-0.625672</td>\n",
       "      <td>-0.599015</td>\n",
       "      <td>-1.711275</td>\n",
       "      <td>0.157176</td>\n",
       "      <td>-0.427460</td>\n",
       "      <td>-0.606198</td>\n",
       "      <td>-0.593073</td>\n",
       "      <td>0.482086</td>\n",
       "      <td>0.625821</td>\n",
       "      <td>-0.642305</td>\n",
       "      <td>-1.281734</td>\n",
       "    </tr>\n",
       "  </tbody>\n",
       "</table>\n",
       "<p>750 rows × 14 columns</p>\n",
       "</div>"
      ],
      "text/plain": [
       "     account_length  area_code  international_plan  voice_mail_plan  \\\n",
       "0          0.696065  -0.530150           -0.338250         1.598281   \n",
       "1          0.444001   1.713048            2.956393        -0.625672   \n",
       "2         -0.967554  -0.530150           -0.338250        -0.625672   \n",
       "3         -0.186157   1.713048           -0.338250        -0.625672   \n",
       "4          1.855557  -0.530150           -0.338250        -0.625672   \n",
       "..              ...        ...                 ...              ...   \n",
       "745        0.746477  -0.530150           -0.338250        -0.625672   \n",
       "746       -0.690284  -0.695439           -0.338250        -0.625672   \n",
       "747        1.301017  -0.530150           -0.338250        -0.625672   \n",
       "748       -0.992760  -0.530150           -0.338250        -0.625672   \n",
       "749        0.217144   1.713048           -0.338250        -0.625672   \n",
       "\n",
       "     number_vmail_messages  total_day_calls  total_day_charge  \\\n",
       "0                 1.172240         0.470870          1.590686   \n",
       "1                -0.599015        -0.138101          0.807063   \n",
       "2                -0.599015        -1.559032         -1.122705   \n",
       "3                -0.599015         0.673860          0.192544   \n",
       "4                -0.599015        -1.254547         -1.055285   \n",
       "..                     ...              ...               ...   \n",
       "745              -0.599015        -0.087353         -1.147021   \n",
       "746              -0.599015         0.876850         -0.061664   \n",
       "747              -0.599015        -0.544081          0.069861   \n",
       "748              -0.599015        -0.594829         -0.749130   \n",
       "749              -0.599015        -1.711275          0.157176   \n",
       "\n",
       "     total_eve_calls  total_eve_charge  total_night_calls  total_night_charge  \\\n",
       "0          -0.065790         -0.112140          -0.488757            0.874772   \n",
       "1           0.037545          0.332287           0.919514            0.085085   \n",
       "2          -1.254136          1.992682          -0.071491            0.067824   \n",
       "3           0.554217          0.287167           1.075989           -1.360517   \n",
       "4           0.605885          1.415153           0.763040            0.991283   \n",
       "..               ...               ...                ...                 ...   \n",
       "745        -0.169124          0.442829           0.554407            0.059193   \n",
       "746        -0.840798          1.288819           0.606565            0.818674   \n",
       "747        -1.409138          1.027126           0.658723            0.270640   \n",
       "748         1.432561         -0.583638          -0.175808            0.249064   \n",
       "749        -0.427460         -0.606198          -0.593073            0.482086   \n",
       "\n",
       "     total_intl_calls  total_intl_charge  number_customer_service_calls  \n",
       "0           -0.613702          -0.106976                      -0.497639  \n",
       "1            0.625821          -1.445297                      -1.281734  \n",
       "2            0.625821           1.017213                       1.854646  \n",
       "3           -0.613702          -0.789520                       1.070551  \n",
       "4            0.212647           1.887122                       1.070551  \n",
       "..                ...                ...                            ...  \n",
       "745          1.038996           0.361436                      -1.281734  \n",
       "746         -1.026876           0.722782                       1.070551  \n",
       "747         -1.026876           1.592691                       1.070551  \n",
       "748         -0.200527           1.191195                      -0.497639  \n",
       "749          0.625821          -0.642305                      -1.281734  \n",
       "\n",
       "[750 rows x 14 columns]"
      ]
     },
     "execution_count": 60,
     "metadata": {},
     "output_type": "execute_result"
    }
   ],
   "source": [
    "df_test"
   ]
  },
  {
   "cell_type": "code",
   "execution_count": 61,
   "metadata": {
    "executionInfo": {
     "elapsed": 1062,
     "status": "ok",
     "timestamp": 1619333451683,
     "user": {
      "displayName": "sharan nixon",
      "photoUrl": "https://lh3.googleusercontent.com/a-/AOh14GiQANRG7wr96VjSyGXhpwieTJElWuCudRK5zPtL2w=s64",
      "userId": "00216778369807035243"
     },
     "user_tz": -330
    },
    "id": "ai7USmjFpdb6"
   },
   "outputs": [],
   "source": [
    "df_test.to_csv('test_df.csv')"
   ]
  },
  {
   "cell_type": "code",
   "execution_count": 62,
   "metadata": {
    "colab": {
     "base_uri": "https://localhost:8080/"
    },
    "executionInfo": {
     "elapsed": 1252,
     "status": "ok",
     "timestamp": 1619333510810,
     "user": {
      "displayName": "sharan nixon",
      "photoUrl": "https://lh3.googleusercontent.com/a-/AOh14GiQANRG7wr96VjSyGXhpwieTJElWuCudRK5zPtL2w=s64",
      "userId": "00216778369807035243"
     },
     "user_tz": -330
    },
    "id": "Zi8PieI-k0rB",
    "outputId": "929bf9b6-19e2-4919-a0d7-6d9adf34d179"
   },
   "outputs": [
    {
     "data": {
      "text/plain": [
       "array(['no', 'no', 'yes', 'no', 'no', 'no', 'no', 'no', 'no', 'yes',\n",
       "       'yes', 'no', 'no', 'no', 'no', 'no', 'no', 'no', 'no', 'no', 'no',\n",
       "       'no', 'no', 'no', 'no', 'no', 'yes', 'no', 'no', 'no', 'no', 'no',\n",
       "       'no', 'no', 'no', 'no', 'no', 'yes', 'no', 'yes', 'no', 'no', 'no',\n",
       "       'no', 'no', 'no', 'no', 'no', 'no', 'no', 'yes', 'no', 'no', 'no',\n",
       "       'yes', 'no', 'no', 'no', 'yes', 'no', 'no', 'no', 'yes', 'no',\n",
       "       'no', 'no', 'no', 'no', 'yes', 'no', 'no', 'no', 'yes', 'no', 'no',\n",
       "       'no', 'no', 'no', 'no', 'no', 'no', 'no', 'no', 'no', 'no', 'no',\n",
       "       'no', 'no', 'no', 'no', 'no', 'yes', 'no', 'yes', 'no', 'no', 'no',\n",
       "       'no', 'no', 'yes', 'no', 'no', 'no', 'no', 'yes', 'no', 'no', 'no',\n",
       "       'yes', 'no', 'no', 'no', 'no', 'no', 'no', 'no', 'no', 'no', 'yes',\n",
       "       'no', 'no', 'yes', 'no', 'no', 'no', 'no', 'no', 'no', 'no', 'no',\n",
       "       'no', 'no', 'no', 'no', 'no', 'no', 'no', 'no', 'no', 'no', 'yes',\n",
       "       'yes', 'no', 'no', 'no', 'no', 'no', 'no', 'no', 'yes', 'no', 'no',\n",
       "       'no', 'no', 'no', 'no', 'no', 'no', 'no', 'no', 'no', 'yes', 'no',\n",
       "       'no', 'no', 'no', 'no', 'no', 'no', 'no', 'no', 'no', 'no', 'no',\n",
       "       'no', 'no', 'yes', 'no', 'no', 'no', 'no', 'no', 'no', 'yes', 'no',\n",
       "       'no', 'yes', 'no', 'no', 'no', 'no', 'no', 'no', 'no', 'no', 'no',\n",
       "       'yes', 'no', 'no', 'no', 'yes', 'no', 'yes', 'yes', 'no', 'no',\n",
       "       'no', 'no', 'no', 'no', 'no', 'no', 'no', 'no', 'no', 'no', 'no',\n",
       "       'no', 'no', 'yes', 'no', 'no', 'no', 'no', 'no', 'no', 'no', 'yes',\n",
       "       'no', 'no', 'no', 'no', 'yes', 'no', 'no', 'no', 'no', 'no', 'no',\n",
       "       'no', 'no', 'yes', 'no', 'no', 'no', 'no', 'no', 'no', 'no', 'no',\n",
       "       'no', 'no', 'no', 'yes', 'no', 'no', 'no', 'no', 'no', 'no', 'no',\n",
       "       'no', 'no', 'no', 'no', 'no', 'no', 'no', 'yes', 'no', 'no', 'no',\n",
       "       'no', 'yes', 'no', 'yes', 'no', 'no', 'no', 'no', 'no', 'no', 'no',\n",
       "       'no', 'no', 'no', 'no', 'no', 'no', 'no', 'no', 'yes', 'no', 'no',\n",
       "       'no', 'no', 'no', 'no', 'no', 'no', 'no', 'no', 'yes', 'no', 'no',\n",
       "       'no', 'no', 'no', 'no', 'no', 'no', 'no', 'no', 'no', 'no', 'no',\n",
       "       'no', 'no', 'yes', 'no', 'no', 'no', 'no', 'yes', 'no', 'no', 'no',\n",
       "       'yes', 'no', 'no', 'no', 'yes', 'no', 'no', 'no', 'no', 'no', 'no',\n",
       "       'no', 'no', 'no', 'no', 'no', 'no', 'no', 'no', 'no', 'no', 'no',\n",
       "       'no', 'no', 'no', 'no', 'no', 'no', 'yes', 'no', 'yes', 'no', 'no',\n",
       "       'yes', 'yes', 'yes', 'no', 'no', 'yes', 'no', 'yes', 'no', 'no',\n",
       "       'yes', 'no', 'no', 'no', 'no', 'no', 'no', 'no', 'no', 'no', 'no',\n",
       "       'no', 'no', 'yes', 'no', 'no', 'no', 'no', 'no', 'no', 'yes', 'no',\n",
       "       'no', 'no', 'yes', 'no', 'no', 'yes', 'no', 'yes', 'no', 'no',\n",
       "       'no', 'no', 'yes', 'no', 'no', 'no', 'no', 'yes', 'no', 'no',\n",
       "       'yes', 'no', 'no', 'no', 'no', 'yes', 'no', 'no', 'no', 'no', 'no',\n",
       "       'no', 'no', 'no', 'yes', 'no', 'no', 'no', 'no', 'no', 'no', 'no',\n",
       "       'no', 'no', 'no', 'no', 'no', 'no', 'no', 'no', 'no', 'no', 'yes',\n",
       "       'no', 'no', 'no', 'no', 'no', 'no', 'no', 'no', 'yes', 'yes', 'no',\n",
       "       'no', 'no', 'no', 'no', 'no', 'no', 'no', 'no', 'no', 'no', 'no',\n",
       "       'no', 'no', 'no', 'no', 'no', 'no', 'no', 'no', 'no', 'no', 'no',\n",
       "       'no', 'no', 'no', 'no', 'no', 'no', 'no', 'no', 'no', 'no', 'no',\n",
       "       'yes', 'no', 'no', 'no', 'no', 'yes', 'no', 'no', 'no', 'no', 'no',\n",
       "       'no', 'no', 'no', 'no', 'no', 'no', 'no', 'no', 'no', 'no', 'no',\n",
       "       'no', 'no', 'no', 'no', 'no', 'no', 'no', 'no', 'no', 'no', 'no',\n",
       "       'no', 'no', 'no', 'no', 'yes', 'no', 'no', 'no', 'no', 'no', 'no',\n",
       "       'no', 'no', 'yes', 'no', 'no', 'no', 'no', 'no', 'no', 'no', 'no',\n",
       "       'no', 'no', 'no', 'no', 'no', 'no', 'no', 'no', 'no', 'no', 'no',\n",
       "       'no', 'no', 'no', 'no', 'no', 'no', 'no', 'yes', 'no', 'yes', 'no',\n",
       "       'no', 'no', 'no', 'no', 'no', 'yes', 'no', 'no', 'yes', 'yes',\n",
       "       'no', 'no', 'no', 'no', 'no', 'no', 'no', 'no', 'no', 'no', 'no',\n",
       "       'no', 'no', 'no', 'no', 'no', 'no', 'no', 'no', 'yes', 'no', 'yes',\n",
       "       'no', 'no', 'no', 'no', 'no', 'no', 'no', 'no', 'no', 'no', 'no',\n",
       "       'no', 'no', 'yes', 'no', 'no', 'no', 'no', 'no', 'no', 'no', 'no',\n",
       "       'no', 'no', 'no', 'no', 'no', 'no', 'no', 'no', 'no', 'no', 'no',\n",
       "       'no', 'no', 'no', 'no', 'yes', 'no', 'yes', 'no', 'no', 'no', 'no',\n",
       "       'no', 'no', 'no', 'yes', 'no', 'yes', 'no', 'no', 'yes', 'no',\n",
       "       'no', 'no', 'no', 'no', 'yes', 'yes', 'no', 'no', 'no', 'no',\n",
       "       'yes', 'no', 'no', 'no', 'no', 'no', 'no', 'no', 'no', 'no', 'no',\n",
       "       'no', 'no', 'no', 'no', 'no', 'no', 'no', 'no', 'no', 'no', 'no',\n",
       "       'yes', 'no', 'no', 'no', 'no', 'no', 'no', 'yes', 'no', 'no', 'no',\n",
       "       'no', 'no', 'no', 'yes', 'no', 'no', 'no', 'no', 'no', 'no', 'no',\n",
       "       'no', 'yes', 'no', 'no', 'no', 'no', 'yes', 'no', 'no', 'no', 'no',\n",
       "       'no', 'no', 'yes', 'no', 'no', 'no', 'no', 'no', 'no', 'no', 'no',\n",
       "       'no', 'no', 'no', 'no', 'no', 'no', 'no', 'no', 'yes', 'no', 'yes',\n",
       "       'no', 'no', 'no', 'no', 'no', 'no', 'no', 'no', 'no', 'no', 'no'],\n",
       "      dtype='<U3')"
      ]
     },
     "execution_count": 62,
     "metadata": {},
     "output_type": "execute_result"
    }
   ],
   "source": [
    "loaded_model = pickle.load(open(filename, 'rb'))\n",
    "result = loaded_model.predict(df_test)\n",
    "pred1 = predict_test.round()\n",
    "pred = np.where(pred1 == 0,'no','yes')\n",
    "pred"
   ]
  },
  {
   "cell_type": "code",
   "execution_count": null,
   "metadata": {},
   "outputs": [],
   "source": []
  },
  {
   "cell_type": "code",
   "execution_count": null,
   "metadata": {},
   "outputs": [],
   "source": []
  }
 ],
 "metadata": {
  "colab": {
   "authorship_tag": "ABX9TyO2+wu7MZEuv8SrjR+h3KH/",
   "name": "Churn_prediction.ipynb",
   "provenance": []
  },
  "kernelspec": {
   "display_name": "Python 3",
   "language": "python",
   "name": "python3"
  },
  "language_info": {
   "codemirror_mode": {
    "name": "ipython",
    "version": 3
   },
   "file_extension": ".py",
   "mimetype": "text/x-python",
   "name": "python",
   "nbconvert_exporter": "python",
   "pygments_lexer": "ipython3",
   "version": "3.8.3"
  }
 },
 "nbformat": 4,
 "nbformat_minor": 1
}
